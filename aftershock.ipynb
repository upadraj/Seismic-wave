{
 "cells": [
  {
   "cell_type": "code",
   "execution_count": 9,
   "metadata": {},
   "outputs": [],
   "source": [
    "\n",
    "import scipy.io as sio\n",
    "import pandas as pd\n",
    "import mat73\n",
    "\n",
    "data_dict = mat73.loadmat('./AftershockData.mat')\n",
    "# data_dict = sio.loadmat(r'./AftershockData.mat')"
   ]
  },
  {
   "cell_type": "markdown",
   "metadata": {},
   "source": []
  },
  {
   "cell_type": "code",
   "execution_count": 10,
   "metadata": {},
   "outputs": [
    {
     "data": {
      "text/plain": [
       "{'data': array([[ 1.07943981e-01,  3.47593409e-01,  6.03381014e-01, ...,\n",
       "         -1.59357881e+02, -9.71235354e+01, -3.82909608e+01],\n",
       "        [-1.73192985e-01, -2.90849423e+00, -5.54855795e+00, ...,\n",
       "         -2.71448119e+02, -1.14863158e+02,  6.06976728e+01],\n",
       "        [-3.91308024e-01, -6.18932753e+00, -1.18077668e+01, ...,\n",
       "          4.40266051e+02,  2.65522251e+02,  1.00267716e+02],\n",
       "        ...,\n",
       "        [-1.64841971e-01,  5.32649246e+00,  1.01079551e+01, ...,\n",
       "         -4.99563092e-01, -2.92906656e-01, -6.14180713e-02],\n",
       "        [ 0.00000000e+00,  0.00000000e+00,  0.00000000e+00, ...,\n",
       "          0.00000000e+00,  0.00000000e+00,  0.00000000e+00],\n",
       "        [ 0.00000000e+00,  0.00000000e+00,  0.00000000e+00, ...,\n",
       "          0.00000000e+00,  0.00000000e+00,  0.00000000e+00]])}"
      ]
     },
     "execution_count": 10,
     "metadata": {},
     "output_type": "execute_result"
    }
   ],
   "source": [
    "data_dict"
   ]
  },
  {
   "cell_type": "code",
   "execution_count": 17,
   "metadata": {},
   "outputs": [],
   "source": [
    "df = pd.DataFrame(data_dict['data'])\n",
    "# k = list(df)"
   ]
  },
  {
   "cell_type": "code",
   "execution_count": 21,
   "metadata": {},
   "outputs": [],
   "source": [
    "mn= df.min()\n",
    "mx= df.max()"
   ]
  },
  {
   "cell_type": "code",
   "execution_count": 22,
   "metadata": {},
   "outputs": [
    {
     "data": {
      "text/plain": [
       "0         -1250.156670\n",
       "1       -109760.741101\n",
       "2       -204480.782104\n",
       "3       -273929.642876\n",
       "4       -309797.122816\n",
       "             ...      \n",
       "13196    -11418.871008\n",
       "13197    -11088.092108\n",
       "13198    -16481.564187\n",
       "13199    -13941.664145\n",
       "13200      -549.393281\n",
       "Length: 13201, dtype: float64"
      ]
     },
     "execution_count": 22,
     "metadata": {},
     "output_type": "execute_result"
    }
   ],
   "source": [
    "mn"
   ]
  },
  {
   "cell_type": "code",
   "execution_count": 24,
   "metadata": {},
   "outputs": [
    {
     "data": {
      "text/plain": [
       "0           687.076600\n",
       "1         77875.628137\n",
       "2        148692.878589\n",
       "3        207332.600112\n",
       "4        249156.142425\n",
       "             ...      \n",
       "13196    276339.783920\n",
       "13197    249548.399242\n",
       "13198    189563.310656\n",
       "13199    104571.324729\n",
       "13200      6145.326051\n",
       "Length: 13201, dtype: float64"
      ]
     },
     "execution_count": 24,
     "metadata": {},
     "output_type": "execute_result"
    }
   ],
   "source": [
    "mx"
   ]
  }
 ],
 "metadata": {
  "kernelspec": {
   "display_name": "data_mining",
   "language": "python",
   "name": "python3"
  },
  "language_info": {
   "codemirror_mode": {
    "name": "ipython",
    "version": 3
   },
   "file_extension": ".py",
   "mimetype": "text/x-python",
   "name": "python",
   "nbconvert_exporter": "python",
   "pygments_lexer": "ipython3",
   "version": "3.9.19"
  }
 },
 "nbformat": 4,
 "nbformat_minor": 2
}
