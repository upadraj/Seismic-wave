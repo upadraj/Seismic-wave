{
 "cells": [
  {
   "cell_type": "code",
   "execution_count": 1,
   "metadata": {},
   "outputs": [],
   "source": [
    "import os\n",
    "import torch\n",
    "from PIL import Image\n",
    "from torch.utils.data import Dataset\n",
    "from torch.utils.data import DataLoader, random_split\n",
    "from torchvision import datasets, transforms"
   ]
  },
  {
   "cell_type": "code",
   "execution_count": 2,
   "metadata": {},
   "outputs": [],
   "source": [
    "# Image processing\n",
    "\n",
    "transform = transforms.Compose([\n",
    "    transforms.Resize((224,224)),\n",
    "    transforms.ToTensor(),\n",
    "    transforms.Normalize(mean=[0.485, 0.456, 0.406], std = [0.229, 0.224, 0.225])\n",
    "    \n",
    "])\n",
    "path = \"../spectrogram_images/\"\n",
    "dataset = datasets.ImageFolder(root=path, transform=transform)\n",
    "data_loader = DataLoader(dataset,batch_size=32, shuffle=True)"
   ]
  },
  {
   "cell_type": "code",
   "execution_count": 3,
   "metadata": {},
   "outputs": [
    {
     "name": "stdout",
     "output_type": "stream",
     "text": [
      "Batch 1, Image Tensor: torch.Size([32, 3, 224, 224])\n",
      "Batch 2, Image Tensor: torch.Size([32, 3, 224, 224])\n",
      "Batch 3, Image Tensor: torch.Size([32, 3, 224, 224])\n",
      "Batch 4, Image Tensor: torch.Size([3, 3, 224, 224])\n"
     ]
    }
   ],
   "source": [
    "for batch_idx, image in enumerate(data_loader):\n",
    "    print(f\"Batch {batch_idx + 1}, Image Tensor: {image[0].shape}\")"
   ]
  }
 ],
 "metadata": {
  "kernelspec": {
   "display_name": "a1_env",
   "language": "python",
   "name": "python3"
  },
  "language_info": {
   "codemirror_mode": {
    "name": "ipython",
    "version": 3
   },
   "file_extension": ".py",
   "mimetype": "text/x-python",
   "name": "python",
   "nbconvert_exporter": "python",
   "pygments_lexer": "ipython3",
   "version": "3.9.19"
  }
 },
 "nbformat": 4,
 "nbformat_minor": 2
}
