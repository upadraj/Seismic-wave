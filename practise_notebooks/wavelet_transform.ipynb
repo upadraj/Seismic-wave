{
 "cells": [
  {
   "cell_type": "code",
   "execution_count": 1,
   "metadata": {},
   "outputs": [],
   "source": [
    "import os\n",
    "import sys\n",
    "import pywt\n",
    "import numpy as np\n",
    "import pandas as pd\n",
    "import matplotlib.pyplot as plt\n",
    "import scipy.ndimage as ndimage\n",
    "sys.path.append(os.path.abspath(os.path.join(r\"../../Seismic-wave/\")))\n",
    "\n",
    "from utils.data_utils import split_3_channel, test_train_split"
   ]
  },
  {
   "cell_type": "code",
   "execution_count": 2,
   "metadata": {},
   "outputs": [
    {
     "name": "stdout",
     "output_type": "stream",
     "text": [
      "Index(['S'], dtype='object')\n"
     ]
    }
   ],
   "source": [
    "feature_path = \"../data/processed/balance_16k/preprocessing/x_train.csv\"\n",
    "label_path = \"../data/processed/balance_16k/preprocessing/y_train.csv\"\n",
    "\n",
    "df = pd.read_csv(feature_path)\n",
    "df_label = pd.read_csv(label_path)\n",
    "\n",
    "train, _ = test_train_split(df, df_label, split=0.001)\n",
    "\n",
    "train_features, train_labels = split_3_channel(train)"
   ]
  },
  {
   "cell_type": "code",
   "execution_count": 3,
   "metadata": {},
   "outputs": [],
   "source": [
    "def znorm(data):\n",
    "    return (data - np.mean(data)) / (np.std(data)+ 0.001)\n",
    "\n",
    "\n",
    "def min_max(data):\n",
    "    return (data - np.min(data)) / (np.max(data) - np.min(data))\n",
    "\n",
    "\n",
    "def apply_cwt_to_all_rows(data, scales, waveletname):\n",
    "    cwt_results = []\n",
    "\n",
    "    for i in range(data.shape[0]):\n",
    "        BHZ = data[i][0]\n",
    "        BHN = data[i][1]\n",
    "        BHE = data[i][2]\n",
    "        BHZ = znorm(data[i][0])\n",
    "        BHN = znorm(data[i][1])\n",
    "        BHE = znorm(data[i][2])\n",
    "        cwt_BHZ, _ = pywt.cwt(BHZ, scales, waveletname)\n",
    "        cwt_BHN, _ = pywt.cwt(BHN, scales, waveletname)\n",
    "        cwt_BHE, _ = pywt.cwt(BHE, scales, waveletname)\n",
    "\n",
    "        cwt_combined = np.stack([cwt_BHZ, cwt_BHN, cwt_BHE], axis=0)\n",
    "        cwt_results.append(cwt_combined)\n",
    "        \n",
    "    return np.array(cwt_results)\n",
    "\n",
    "def save_spectrogram_images_from_cwt(cwt_data, labels, output_folder):\n",
    "    num_samples = cwt_data.shape[0]\n",
    "    num_scales = cwt_data.shape[2]\n",
    "    o = output_folder\n",
    "\n",
    "    for i in range(num_samples):\n",
    "        output_folder = o\n",
    "        sample_data = cwt_data[i]\n",
    "        label = labels[i]\n",
    "\n",
    "        BHZ = np.array(sample_data[0])\n",
    "        BHN = np.array(sample_data[1])\n",
    "        BHE = np.array(sample_data[2])\n",
    "        composite_image = np.zeros((num_scales, BHZ.shape[1], 3))\n",
    "        \n",
    "        BHZ = znorm(BHZ)\n",
    "        BHN = znorm(BHN)\n",
    "        BHE = znorm(BHE)\n",
    "\n",
    "        composite_image[:, :, 0] = np.abs(BHZ)\n",
    "        composite_image[:, :, 1] = np.abs(BHN)\n",
    "        composite_image[:, :, 2] = np.abs(BHE)\n",
    "\n",
    "        # composite_image = ndimage.gaussian_filter(composite_image, sigma=0.0015)\n",
    "        # composite_image  = composite_image * 0.3\n",
    "        # composite_image  = np.abs(composite_image)\n",
    "        composite_image = min_max(composite_image)\n",
    "\n",
    "        if np.isnan(composite_image).any() or np.isinf(composite_image).any():\n",
    "            print(\n",
    "                f\"Error: NaN or Inf values detected in composite_image for sample {i}. Skipping this sample.\"\n",
    "            )\n",
    "            continue\n",
    "\n",
    "        # max_value = composite_image.max()\n",
    "        # if max_value != 0:\n",
    "        #     composite_image /= max_value\n",
    "        # else:\n",
    "        #     print(f\"Warning: Max value is zero for sample {i}. Skipping normalization.\")\n",
    "        #     continue\n",
    "        filename = f\"{i}.png\"\n",
    "        if label == \"Lg\":\n",
    "            output_folder += f\"/{label}\"\n",
    "        elif label == \"P\":\n",
    "            output_folder += f\"/{label}\"\n",
    "        elif label == \"Pg\":\n",
    "            output_folder += f\"/{label}\"\n",
    "        elif label == \"S\":\n",
    "            output_folder += f\"/{label}\"\n",
    "        else:\n",
    "            output_folder += f\"/{label}\"\n",
    "        os.makedirs(output_folder, exist_ok=True)\n",
    "        filepath = os.path.join(output_folder, filename)\n",
    "        plt.figure(figsize=(10, 6))\n",
    "        plt.imshow(composite_image, aspect=\"auto\", cmap='jet')\n",
    "        plt.axis(\"off\")\n",
    "\n",
    "        plt.savefig(filepath, format=\"png\", bbox_inches=\"tight\", pad_inches=0)\n",
    "        plt.close()"
   ]
  },
  {
   "cell_type": "code",
   "execution_count": 4,
   "metadata": {},
   "outputs": [],
   "source": [
    "waveletname = 'cmor1.5-1.0' \n",
    "# waveletname = 'mexh' \n",
    "scales = np.geomspace(1, 5024, num=200)\n",
    "num_columns_per_channel = 2401\n",
    "cwt_transformed_data = apply_cwt_to_all_rows(train_features,scales, waveletname)\n",
    "\n",
    "output_folder = \"../spectrogram_images/\"\n",
    "save_spectrogram_images_from_cwt(cwt_transformed_data, train_labels, output_folder)"
   ]
  },
  {
   "cell_type": "code",
   "execution_count": null,
   "metadata": {},
   "outputs": [],
   "source": []
  }
 ],
 "metadata": {
  "kernelspec": {
   "display_name": "a1_env",
   "language": "python",
   "name": "python3"
  },
  "language_info": {
   "codemirror_mode": {
    "name": "ipython",
    "version": 3
   },
   "file_extension": ".py",
   "mimetype": "text/x-python",
   "name": "python",
   "nbconvert_exporter": "python",
   "pygments_lexer": "ipython3",
   "version": "3.9.19"
  }
 },
 "nbformat": 4,
 "nbformat_minor": 2
}
