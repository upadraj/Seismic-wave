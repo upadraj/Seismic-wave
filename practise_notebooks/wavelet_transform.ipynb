{
 "cells": [
  {
   "cell_type": "code",
   "execution_count": 1,
   "metadata": {},
   "outputs": [],
   "source": [
    "import os\n",
    "import sys\n",
    "import pywt\n",
    "import numpy as np\n",
    "import pandas as pd\n",
    "import matplotlib.pyplot as plt\n",
    "import scipy.ndimage as ndimage\n",
    "sys.path.append(os.path.abspath(os.path.join(r\"../../Seismic-wave/\")))\n",
    "from tqdm import tqdm\n",
    "from utils.data_utils import split_3_channel, test_train_split"
   ]
  },
  {
   "cell_type": "code",
   "execution_count": 2,
   "metadata": {},
   "outputs": [],
   "source": [
    "feature_path = \"../data/processed/balance_16k/preprocessing/x_train.csv\"\n",
    "label_path = \"../data/processed/balance_16k/preprocessing/y_train.csv\"\n",
    "\n",
    "df = pd.read_csv(feature_path)\n",
    "df_label = pd.read_csv(label_path)\n",
    "df[\"labels\"] = df_label['S']\n",
    "train = df\n",
    "train_features, train_labels = split_3_channel(train)"
   ]
  },
  {
   "cell_type": "code",
   "execution_count": 3,
   "metadata": {},
   "outputs": [],
   "source": [
    "def znorm(data):\n",
    "    return (data - np.mean(data)) / (np.std(data)+ 0.001)\n",
    "\n",
    "\n",
    "def min_max(data):\n",
    "    return (data - np.min(data)) / (np.max(data) - np.min(data))\n",
    "\n",
    "def apply_cwt_and_save_images(data, scales, waveletname, labels, output_folder):    \n",
    "    num_samples = data.shape[0]\n",
    "    num_scales = len(scales)\n",
    "\n",
    "    for i in tqdm(range(num_samples),desc=\"Processing samples\"):\n",
    "        BHZ = znorm(data[i][0])\n",
    "        BHN = znorm(data[i][1])\n",
    "        BHE = znorm(data[i][2])\n",
    "        \n",
    "        # Perform CWT on each component (BHZ, BHN, BHE)\n",
    "        cwt_BHZ, _ = pywt.cwt(BHZ, scales, waveletname)\n",
    "        cwt_BHN, _ = pywt.cwt(BHN, scales, waveletname)\n",
    "        cwt_BHE, _ = pywt.cwt(BHE, scales, waveletname)\n",
    "\n",
    "        # Stack the three components to create a 3D array\n",
    "        composite_image = np.zeros((num_scales, cwt_BHZ.shape[1], 3))\n",
    "        composite_image[:, :, 0] = np.abs(cwt_BHZ)\n",
    "        composite_image[:, :, 1] = np.abs(cwt_BHN)\n",
    "        composite_image[:, :, 2] = np.abs(cwt_BHE)\n",
    "        \n",
    "        # Normalize the composite image between 0 and 1\n",
    "        composite_image = min_max(composite_image)\n",
    "\n",
    "        # Check for NaN or Inf values and skip if found\n",
    "        if np.isnan(composite_image).any() or np.isinf(composite_image).any():\n",
    "            print(f\"Error: NaN or Inf values detected in composite_image for sample {i}. Skipping this sample.\")\n",
    "            continue\n",
    "        \n",
    "        # Construct the output file path based on the label\n",
    "        label = labels[i]\n",
    "        label_folder = os.path.join(output_folder, label)\n",
    "        os.makedirs(label_folder, exist_ok=True)\n",
    "        \n",
    "        filename = f\"{i}.png\"\n",
    "        filepath = os.path.join(label_folder, filename)\n",
    "        \n",
    "        # Plot and save the spectrogram image\n",
    "        plt.figure(figsize=(10, 6))\n",
    "        plt.imshow(composite_image, aspect=\"auto\", cmap='jet')\n",
    "        plt.axis(\"off\")\n",
    "        plt.savefig(filepath, format=\"png\", bbox_inches=\"tight\", pad_inches=0)\n",
    "        plt.close()\n",
    "        \n"
   ]
  },
  {
   "cell_type": "code",
   "execution_count": 4,
   "metadata": {},
   "outputs": [
    {
     "name": "stderr",
     "output_type": "stream",
     "text": [
      "Processing samples: 100%|██████████| 16303/16303 [5:22:48<00:00,  1.19s/it]  \n"
     ]
    }
   ],
   "source": [
    "waveletname = 'cmor1.5-1.0' \n",
    "# waveletname = 'mexh' \n",
    "scales = np.geomspace(1, 3024, num=100)\n",
    "num_columns_per_channel = 2401\n",
    "output_folder = \"../spectrogram_images/\"\n",
    "apply_cwt_and_save_images(train_features, scales, waveletname, train_labels, output_folder)"
   ]
  }
 ],
 "metadata": {
  "kernelspec": {
   "display_name": "a1_env",
   "language": "python",
   "name": "python3"
  },
  "language_info": {
   "codemirror_mode": {
    "name": "ipython",
    "version": 3
   },
   "file_extension": ".py",
   "mimetype": "text/x-python",
   "name": "python",
   "nbconvert_exporter": "python",
   "pygments_lexer": "ipython3",
   "version": "3.12.5"
  }
 },
 "nbformat": 4,
 "nbformat_minor": 4
}
