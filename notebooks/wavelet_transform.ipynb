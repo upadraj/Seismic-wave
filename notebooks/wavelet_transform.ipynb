{
 "cells": [
  {
   "cell_type": "code",
   "execution_count": 8,
   "metadata": {},
   "outputs": [],
   "source": [
    "import os\n",
    "import pywt\n",
    "import numpy as np\n",
    "import pandas as pd\n",
    "import matplotlib.pyplot as plt\n"
   ]
  },
  {
   "cell_type": "code",
   "execution_count": 9,
   "metadata": {},
   "outputs": [],
   "source": [
    "train_features_path = \"../data/processed/balance_16k/preprocessing/x_train.csv\"\n",
    "labels_path = \"../data/processed/balance_16k/preprocessing/y_train.csv\""
   ]
  },
  {
   "cell_type": "code",
   "execution_count": 10,
   "metadata": {},
   "outputs": [],
   "source": [
    "def znorm(data):\n",
    "    return (data - np.mean(data)) / (np.std(data))\n",
    "\n",
    "def min_max(data):\n",
    "    return (data- np.max(data))/ (np.max(data)- np.min(data))"
   ]
  },
  {
   "cell_type": "code",
   "execution_count": 4,
   "metadata": {},
   "outputs": [],
   "source": [
    "df_train = pd.read_csv(train_features_path, header=None)\n",
    "df_labels = pd.read_csv(labels_path, header=None)\n"
   ]
  },
  {
   "cell_type": "code",
   "execution_count": 5,
   "metadata": {},
   "outputs": [],
   "source": [
    "def apply_cwt_to_single_row(row, num_columns_per_channel, scales, waveletname=\"\"):\n",
    "    BHZ = znorm(row[:num_columns_per_channel])\n",
    "    BHN = znorm(row[num_columns_per_channel : 2 * num_columns_per_channel])\n",
    "    BHE = znorm(row[2 * num_columns_per_channel :])\n",
    "\n",
    "    cwt_BHZ, _ = pywt.cwt(BHZ, scales, waveletname)\n",
    "    cwt_BHN, _ = pywt.cwt(BHN, scales, waveletname)\n",
    "    cwt_BHE, _ = pywt.cwt(BHE, scales, waveletname)\n",
    "\n",
    "    cwt_combined = np.stack([cwt_BHZ, cwt_BHN, cwt_BHE], axis=0)\n",
    "\n",
    "    return cwt_combined\n",
    "\n",
    "\n",
    "def apply_cwt_to_all_rows(data, num_columns_per_channel, scales, waveletname=\"morl\"):\n",
    "    cwt_results = []\n",
    "\n",
    "    for _, row in data.iterrows():\n",
    "        row_array = row.to_numpy()\n",
    "        cwt_result = apply_cwt_to_single_row(\n",
    "            row_array, num_columns_per_channel, scales, waveletname\n",
    "        )\n",
    "        cwt_results.append(cwt_result)\n",
    "\n",
    "    return np.array(cwt_results)"
   ]
  },
  {
   "cell_type": "code",
   "execution_count": 6,
   "metadata": {},
   "outputs": [],
   "source": [
    "\n",
    "df_combined = pd.concat([df_train, df_labels], axis=1)\n",
    "columns = list(df_train.columns) + ['label']\n",
    "df_combined.columns = columns\n",
    "df_sampled = df_combined\n",
    "df_train_sampled = df_sampled.iloc[:, :-1]  \n",
    "df_labels_sampled = df_sampled.iloc[:, -1] "
   ]
  },
  {
   "cell_type": "code",
   "execution_count": null,
   "metadata": {},
   "outputs": [],
   "source": [
    "scales = np.geomspace(10, 2024, num=50)\n",
    "num_columns_per_channel = 2401\n",
    "\n",
    "cwt_transformed_data = apply_cwt_to_all_rows(df_train_sampled, num_columns_per_channel, scales)\n",
    "def save_spectrogram_images_from_cwt(cwt_data, labels, output_folder):\n",
    "    num_samples = cwt_data.shape[0]\n",
    "    num_scales = cwt_data.shape[2]\n",
    "    o = output_folder\n",
    "\n",
    "    for i in range(num_samples):\n",
    "        output_folder = o\n",
    "        sample_data = cwt_data[i]\n",
    "        label = labels[i]\n",
    "        \n",
    "        BHZ = np.array(sample_data[0])\n",
    "        BHN = np.array(sample_data[1])\n",
    "        BHE = np.array(sample_data[2]) \n",
    "        composite_image = np.zeros((num_scales, BHZ.shape[1], 3))\n",
    "        composite_image[:, :, 0] = np.maximum(0,BHZ)\n",
    "        composite_image[:, :, 1] = np.maximum(0,BHN)\n",
    "        composite_image[:, :, 2] = np.maximum(0,BHE)\n",
    "\n",
    "        if np.isnan(composite_image).any() or np.isinf(composite_image).any():\n",
    "            print(f\"Error: NaN or Inf values detected in composite_image for sample {i}. Skipping this sample.\")\n",
    "            continue\n",
    "\n",
    "        max_value = composite_image.max()\n",
    "        if max_value != 0:\n",
    "            composite_image /= max_value\n",
    "        else:\n",
    "            print(f\"Warning: Max value is zero for sample {i}. Skipping normalization.\")\n",
    "            continue        \n",
    "        filename = f\"{i}.png\"\n",
    "        if labels[i] == \"Lg\":\n",
    "            output_folder += f\"\\{labels[i]}\"\n",
    "        elif labels[i] == \"P\":\n",
    "            output_folder += f\"\\{labels[i]}\"\n",
    "        elif labels[i] == \"Pg\":\n",
    "            output_folder += f\"\\{labels[i]}\"\n",
    "        elif labels[i] == \"S\":\n",
    "            output_folder += f\"\\{labels[i]}\"\n",
    "        else:\n",
    "            output_folder += f\"\\{labels[i]}\"\n",
    "        filepath = os.path.join(output_folder, filename)\n",
    "        plt.figure(figsize=(10, 6))\n",
    "        plt.imshow(composite_image, aspect='auto')\n",
    "        plt.axis('off')    \n",
    "        \n",
    "        plt.savefig(filepath, format='png',bbox_inches='tight' ,pad_inches=0)\n",
    "        plt.close() \n",
    "\n",
    "output_folder = \"../spectrogram_images/\"\n",
    "save_spectrogram_images_from_cwt(cwt_transformed_data, df_labels_sampled, output_folder)"
   ]
  }
 ],
 "metadata": {
  "kernelspec": {
   "display_name": "a1_env",
   "language": "python",
   "name": "python3"
  },
  "language_info": {
   "codemirror_mode": {
    "name": "ipython",
    "version": 3
   },
   "file_extension": ".py",
   "mimetype": "text/x-python",
   "name": "python",
   "nbconvert_exporter": "python",
   "pygments_lexer": "ipython3",
   "version": "3.9.19"
  }
 },
 "nbformat": 4,
 "nbformat_minor": 2
}
