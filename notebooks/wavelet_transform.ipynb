{
 "cells": [
  {
   "cell_type": "code",
   "execution_count": 1,
   "metadata": {},
   "outputs": [],
   "source": [
    "import numpy as np\n",
    "import pywt\n",
    "import matplotlib.pyplot as plt\n",
    "import pandas as pd\n",
    "from sklearn.model_selection import train_test_split\n",
    "import os\n",
    "import librosa"
   ]
  },
  {
   "cell_type": "code",
   "execution_count": 2,
   "metadata": {},
   "outputs": [],
   "source": [
    "train_features_path = \"../data/processed/balance_16k/preprocessing/x_train.csv\"\n",
    "labels_path = \"../data/processed/balance_16k/preprocessing/y_train.csv\""
   ]
  },
  {
   "cell_type": "code",
   "execution_count": 3,
   "metadata": {},
   "outputs": [],
   "source": [
    "df_train = pd.read_csv(train_features_path, header=None,nrows=100)\n",
    "df_labels = pd.read_csv(labels_path, header=None,nrows=100)"
   ]
  },
  {
   "cell_type": "code",
   "execution_count": 4,
   "metadata": {},
   "outputs": [],
   "source": [
    "df_train.columns = [str(i) for i in range(df_train.shape[1])]\n",
    "df_labels.columns = [str(i) for i in range(df_labels.shape[1])]"
   ]
  },
  {
   "cell_type": "code",
   "execution_count": 5,
   "metadata": {},
   "outputs": [],
   "source": [
    "def apply_cwt_to_single_row(row, num_columns_per_channel, scales, waveletname='morl'):\n",
    "    BHZ = row[:num_columns_per_channel]         \n",
    "    BHN = row[num_columns_per_channel:2*num_columns_per_channel] \n",
    "    BHE = row[2*num_columns_per_channel:]       \n",
    "    \n",
    "    cwt_BHZ, _ = pywt.cwt(BHZ, scales, waveletname)\n",
    "    cwt_BHN, _ = pywt.cwt(BHN, scales, waveletname)\n",
    "    cwt_BHE, _ = pywt.cwt(BHE, scales, waveletname)\n",
    "    \n",
    "    cwt_combined = np.stack([cwt_BHZ, cwt_BHN, cwt_BHE], axis=0)\n",
    "    \n",
    "    return cwt_combined"
   ]
  },
  {
   "cell_type": "code",
   "execution_count": 6,
   "metadata": {},
   "outputs": [],
   "source": [
    "def apply_cwt_to_all_rows(data, num_columns_per_channel, scales, waveletname='morl'):\n",
    "    cwt_results = []\n",
    "    \n",
    "    for _, row in data.iterrows():\n",
    "        row_array = row.to_numpy()\n",
    "        cwt_result = apply_cwt_to_single_row(row_array, num_columns_per_channel, scales, waveletname)\n",
    "        cwt_results.append(cwt_result)\n",
    "    \n",
    "    return np.array(cwt_results)"
   ]
  },
  {
   "cell_type": "code",
   "execution_count": 7,
   "metadata": {},
   "outputs": [],
   "source": [
    "df_combined = pd.concat([df_train, df_labels], axis=1)"
   ]
  },
  {
   "cell_type": "code",
   "execution_count": 8,
   "metadata": {},
   "outputs": [],
   "source": [
    "columns = list(df_train.columns) + ['label']\n",
    "df_combined.columns = columns"
   ]
  },
  {
   "cell_type": "code",
   "execution_count": 9,
   "metadata": {},
   "outputs": [
    {
     "name": "stderr",
     "output_type": "stream",
     "text": [
      "C:\\Users\\incognito\\AppData\\Local\\Temp\\ipykernel_23400\\2257738727.py:1: DeprecationWarning: DataFrameGroupBy.apply operated on the grouping columns. This behavior is deprecated, and in a future version of pandas the grouping columns will be excluded from the operation. Either pass `include_groups=False` to exclude the groupings or explicitly select the grouping columns after groupby to silence this warning.\n",
      "  df_sampled = df_combined.groupby('label').apply(lambda x: x.sample(n=1, random_state=42)).reset_index(drop=True)\n"
     ]
    }
   ],
   "source": [
    "df_sampled = df_combined.groupby('label').apply(lambda x: x.sample(n=1, random_state=42)).reset_index(drop=True)\n"
   ]
  },
  {
   "cell_type": "code",
   "execution_count": 10,
   "metadata": {},
   "outputs": [],
   "source": [
    "df_train_sampled = df_sampled.iloc[:, :-1]  \n",
    "df_labels_sampled = df_sampled.iloc[:, -1] "
   ]
  },
  {
   "cell_type": "code",
   "execution_count": 11,
   "metadata": {},
   "outputs": [],
   "source": [
    "scales = np.arange(1, 128) \n",
    "num_columns_per_channel = 2401\n",
    "\n",
    "cwt_transformed_data = apply_cwt_to_all_rows(df_train_sampled, num_columns_per_channel, scales)"
   ]
  },
  {
   "cell_type": "code",
   "execution_count": 12,
   "metadata": {},
   "outputs": [],
   "source": [
    "def save_spectrogram_images_from_cwt(cwt_data, labels, output_folder):\n",
    "    num_samples = cwt_data.shape[0]\n",
    "    num_scales = cwt_data.shape[2]\n",
    "\n",
    "    for i in range(num_samples):\n",
    "        sample_data = cwt_data[i]\n",
    "        label = labels[i]\n",
    "        \n",
    "        BHZ = np.array(sample_data[0])\n",
    "        BHN = np.array(sample_data[1])\n",
    "        BHE = np.array(sample_data[2]) \n",
    "        composite_image = np.zeros((num_scales, BHZ.shape[1], 3))\n",
    "        composite_image[:, :, 0] = np.abs(BHZ)\n",
    "        composite_image[:, :, 1] = np.abs(BHN)\n",
    "        composite_image[:, :, 2] = np.abs(BHE)\n",
    "\n",
    "        if np.isnan(composite_image).any() or np.isinf(composite_image).any():\n",
    "            print(f\"Error: NaN or Inf values detected in composite_image for sample {i}. Skipping this sample.\")\n",
    "            continue\n",
    "\n",
    "        max_value = composite_image.max()\n",
    "        if max_value != 0:\n",
    "            composite_image /= max_value\n",
    "        else:\n",
    "            print(f\"Warning: Max value is zero for sample {i}. Skipping normalization.\")\n",
    "            continue        \n",
    "        filename = f\"spectrogram_class_{label}_{i}.png\"\n",
    "        filepath = os.path.join(output_folder, filename)\n",
    "        \n",
    "        # Plot the spectrogram\n",
    "        plt.figure(figsize=(10, 6))\n",
    "        plt.imshow(composite_image, aspect='auto')\n",
    "        plt.title(f'Spectrogram Image (Class {label})')\n",
    "        plt.xlabel('Time')\n",
    "        plt.ylabel('Scales')\n",
    "        plt.colorbar(label='Amplitude')  # Commented for RGB images\n",
    "        \n",
    "        # Save the image\n",
    "        plt.savefig(filepath, format='png')  # Ensure png format\n",
    "        plt.close()  # Close the plot to avoid memory issues\n",
    "\n",
    "        # print(f\"Saved: {filepath}\")\n",
    "\n",
    "# Example usage\n",
    "output_folder = \"../spectrogram_images/\"\n",
    "save_spectrogram_images_from_cwt(cwt_transformed_data, df_labels_sampled, output_folder)"
   ]
  }
 ],
 "metadata": {
  "kernelspec": {
   "display_name": "myenv",
   "language": "python",
   "name": "python3"
  },
  "language_info": {
   "codemirror_mode": {
    "name": "ipython",
    "version": 3
   },
   "file_extension": ".py",
   "mimetype": "text/x-python",
   "name": "python",
   "nbconvert_exporter": "python",
   "pygments_lexer": "ipython3",
   "version": "3.11.9"
  }
 },
 "nbformat": 4,
 "nbformat_minor": 2
}
