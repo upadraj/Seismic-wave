{
 "cells": [
  {
   "cell_type": "code",
   "execution_count": 1,
   "metadata": {},
   "outputs": [],
   "source": [
    "import numpy as np\n",
    "import pywt\n",
    "import matplotlib.pyplot as plt\n",
    "import pandas as pd\n",
    "from sklearn.model_selection import train_test_split\n",
    "import os\n",
    "import librosa"
   ]
  },
  {
   "cell_type": "code",
   "execution_count": 2,
   "metadata": {},
   "outputs": [],
   "source": [
    "train_features_path = \"../data/processed/balance_16k/preprocessing/x_train.csv\"\n",
    "labels_path = \"../data/processed/balance_16k/preprocessing/y_train.csv\""
   ]
  },
  {
   "cell_type": "code",
   "execution_count": 3,
   "metadata": {},
   "outputs": [],
   "source": [
    "df_train = pd.read_csv(train_features_path, header=None,nrows=100)\n",
    "df_labels = pd.read_csv(labels_path, header=None,nrows=100)"
   ]
  },
  {
   "cell_type": "code",
   "execution_count": 4,
   "metadata": {},
   "outputs": [],
   "source": [
    "df_train.columns = [str(i) for i in range(df_train.shape[1])]\n",
    "df_labels.columns = [str(i) for i in range(df_labels.shape[1])]"
   ]
  },
  {
   "cell_type": "code",
   "execution_count": 5,
   "metadata": {},
   "outputs": [],
   "source": [
    "def apply_cwt_to_single_row(row, num_columns_per_channel, scales, waveletname='morl'):\n",
    "    BHZ = row[:num_columns_per_channel]         \n",
    "    BHN = row[num_columns_per_channel:2*num_columns_per_channel] \n",
    "    BHE = row[2*num_columns_per_channel:]       \n",
    "    \n",
    "    cwt_BHZ, _ = pywt.cwt(BHZ, scales, waveletname)\n",
    "    cwt_BHN, _ = pywt.cwt(BHN, scales, waveletname)\n",
    "    cwt_BHE, _ = pywt.cwt(BHE, scales, waveletname)\n",
    "    \n",
    "    cwt_combined = np.stack([cwt_BHZ, cwt_BHN, cwt_BHE], axis=0)\n",
    "    \n",
    "    return cwt_combined"
   ]
  },
  {
   "cell_type": "code",
   "execution_count": 6,
   "metadata": {},
   "outputs": [],
   "source": [
    "def apply_cwt_to_all_rows(data, num_columns_per_channel, scales, waveletname='morl'):\n",
    "    cwt_results = []\n",
    "    \n",
    "    for _, row in data.iterrows():\n",
    "        row_array = row.to_numpy()\n",
    "        cwt_result = apply_cwt_to_single_row(row_array, num_columns_per_channel, scales, waveletname)\n",
    "        cwt_results.append(cwt_result)\n",
    "    \n",
    "    return np.array(cwt_results)"
   ]
  },
  {
   "cell_type": "code",
   "execution_count": 7,
   "metadata": {},
   "outputs": [],
   "source": [
    "df_combined = pd.concat([df_train, df_labels], axis=1)"
   ]
  },
  {
   "cell_type": "code",
   "execution_count": 8,
   "metadata": {},
   "outputs": [],
   "source": [
    "columns = list(df_train.columns) + ['label']\n",
    "df_combined.columns = columns"
   ]
  },
  {
   "cell_type": "code",
   "execution_count": 9,
   "metadata": {},
   "outputs": [
    {
     "name": "stderr",
     "output_type": "stream",
     "text": [
      "C:\\Users\\incognito\\AppData\\Local\\Temp\\ipykernel_13580\\397727799.py:1: DeprecationWarning: DataFrameGroupBy.apply operated on the grouping columns. This behavior is deprecated, and in a future version of pandas the grouping columns will be excluded from the operation. Either pass `include_groups=False` to exclude the groupings or explicitly select the grouping columns after groupby to silence this warning.\n",
      "  df_sampled = df_combined.groupby('label').apply(lambda x: x.sample(n=2, random_state=42)).reset_index(drop=True)\n"
     ]
    }
   ],
   "source": [
    "df_sampled = df_combined.groupby('label').apply(lambda x: x.sample(n=2, random_state=42)).reset_index(drop=True)\n"
   ]
  },
  {
   "cell_type": "code",
   "execution_count": 10,
   "metadata": {},
   "outputs": [],
   "source": [
    "df_train_sampled = df_sampled.iloc[:, :-1]  \n",
    "df_labels_sampled = df_sampled.iloc[:, -1] "
   ]
  },
  {
   "cell_type": "code",
   "execution_count": 11,
   "metadata": {},
   "outputs": [],
   "source": [
    "scales = np.arange(1, 128) \n",
    "num_columns_per_channel = 2401\n",
    "\n",
    "cwt_transformed_data = apply_cwt_to_all_rows(df_train_sampled, num_columns_per_channel, scales)"
   ]
  },
  {
   "cell_type": "code",
   "execution_count": 12,
   "metadata": {},
   "outputs": [
    {
     "data": {
      "text/plain": [
       "(12, 3, 127, 2401)"
      ]
     },
     "execution_count": 12,
     "metadata": {},
     "output_type": "execute_result"
    }
   ],
   "source": [
    "cwt_transformed_data.shape"
   ]
  },
  {
   "cell_type": "code",
   "execution_count": 13,
   "metadata": {},
   "outputs": [
    {
     "data": {
      "text/plain": [
       "array([[  -4.16213318, -111.89046461,    4.15088227, ...,   -4.1449966 ,\n",
       "          37.35571541, -111.34510575],\n",
       "       [  22.10545811,  167.81235449, -195.3181616 , ...,   77.3953873 ,\n",
       "        -222.30537981,  202.61569699],\n",
       "       [  11.98499199,  309.26120317,  -11.22226595, ..., -141.09156323,\n",
       "        -154.82002669,  296.67226009],\n",
       "       ...,\n",
       "       [ 221.23594736,  416.07957812,  453.85187515, ...,  652.24850387,\n",
       "         462.75369766,  460.44321372],\n",
       "       [ 223.85324664,  411.85427967,  441.59628818, ...,  660.69711179,\n",
       "         465.48571359,  478.53186719],\n",
       "       [ 262.13733308,  450.0848452 ,  477.96878044, ...,  676.45204283,\n",
       "         469.5232531 ,  474.23206018]])"
      ]
     },
     "execution_count": 13,
     "metadata": {},
     "output_type": "execute_result"
    }
   ],
   "source": [
    "cwt_transformed_data[0][0]"
   ]
  },
  {
   "cell_type": "code",
   "execution_count": 14,
   "metadata": {},
   "outputs": [
    {
     "name": "stdout",
     "output_type": "stream",
     "text": [
      "Sample 0, BHZ shape: (127, 2401), BHN shape: (127, 2401), BHE shape: (127, 2401)\n",
      "Data types: BHZ: float64, BHN: float64, BHE: float64\n",
      "Composite image dtype: float64\n",
      "Composite image max value: 1.0\n",
      "Composite image min value: 3.9970062844788614e-08\n",
      "Composite image type: <class 'numpy.ndarray'>\n",
      "Composite image sample: [0.00138548 0.00189641 0.00374148]\n",
      "Composite image shape for sample 0: (127, 2401, 3), dtype: float64\n",
      "Saved: ../spectrogram_images/spectrogram_class_Lg_0.png\n",
      "Sample 1, BHZ shape: (127, 2401), BHN shape: (127, 2401), BHE shape: (127, 2401)\n",
      "Data types: BHZ: float64, BHN: float64, BHE: float64\n",
      "Composite image dtype: float64\n",
      "Composite image max value: 1.0\n",
      "Composite image min value: 1.3762598042846505e-07\n",
      "Composite image type: <class 'numpy.ndarray'>\n",
      "Composite image sample: [0.00149304 0.00220448 0.00133666]\n",
      "Composite image shape for sample 1: (127, 2401, 3), dtype: float64\n",
      "Saved: ../spectrogram_images/spectrogram_class_Lg_1.png\n",
      "Sample 2, BHZ shape: (127, 2401), BHN shape: (127, 2401), BHE shape: (127, 2401)\n",
      "Data types: BHZ: float64, BHN: float64, BHE: float64\n",
      "Composite image dtype: float64\n",
      "Composite image max value: 1.0\n",
      "Composite image min value: 1.621200460362083e-08\n",
      "Composite image type: <class 'numpy.ndarray'>\n",
      "Composite image sample: [0.00207757 0.00156896 0.00086227]\n",
      "Composite image shape for sample 2: (127, 2401, 3), dtype: float64\n",
      "Saved: ../spectrogram_images/spectrogram_class_P_2.png\n",
      "Sample 3, BHZ shape: (127, 2401), BHN shape: (127, 2401), BHE shape: (127, 2401)\n",
      "Data types: BHZ: float64, BHN: float64, BHE: float64\n",
      "Composite image dtype: float64\n",
      "Composite image max value: 1.0\n",
      "Composite image min value: 2.2832537683995352e-08\n",
      "Composite image type: <class 'numpy.ndarray'>\n",
      "Composite image sample: [0.00068327 0.00085749 0.0004379 ]\n",
      "Composite image shape for sample 3: (127, 2401, 3), dtype: float64\n",
      "Saved: ../spectrogram_images/spectrogram_class_P_3.png\n",
      "Sample 4, BHZ shape: (127, 2401), BHN shape: (127, 2401), BHE shape: (127, 2401)\n",
      "Data types: BHZ: float64, BHN: float64, BHE: float64\n",
      "Composite image dtype: float64\n",
      "Composite image max value: 1.0\n",
      "Composite image min value: 9.935920380279606e-08\n",
      "Composite image type: <class 'numpy.ndarray'>\n",
      "Composite image sample: [0.00227323 0.00013285 0.00173485]\n",
      "Composite image shape for sample 4: (127, 2401, 3), dtype: float64\n",
      "Saved: ../spectrogram_images/spectrogram_class_Pg_4.png\n",
      "Sample 5, BHZ shape: (127, 2401), BHN shape: (127, 2401), BHE shape: (127, 2401)\n",
      "Data types: BHZ: float64, BHN: float64, BHE: float64\n",
      "Composite image dtype: float64\n",
      "Composite image max value: 1.0\n",
      "Composite image min value: 2.5871482108547903e-08\n",
      "Composite image type: <class 'numpy.ndarray'>\n",
      "Composite image sample: [0.00599992 0.00349162 0.00536737]\n",
      "Composite image shape for sample 5: (127, 2401, 3), dtype: float64\n",
      "Saved: ../spectrogram_images/spectrogram_class_Pg_5.png\n",
      "Sample 6, BHZ shape: (127, 2401), BHN shape: (127, 2401), BHE shape: (127, 2401)\n",
      "Data types: BHZ: float64, BHN: float64, BHE: float64\n",
      "Composite image dtype: float64\n",
      "Composite image max value: 1.0\n",
      "Composite image min value: 2.542887403462873e-08\n",
      "Composite image type: <class 'numpy.ndarray'>\n",
      "Composite image sample: [0.00142838 0.00107347 0.00122544]\n",
      "Composite image shape for sample 6: (127, 2401, 3), dtype: float64\n",
      "Saved: ../spectrogram_images/spectrogram_class_Pn_6.png\n",
      "Sample 7, BHZ shape: (127, 2401), BHN shape: (127, 2401), BHE shape: (127, 2401)\n",
      "Data types: BHZ: float64, BHN: float64, BHE: float64\n",
      "Composite image dtype: float64\n",
      "Composite image max value: 1.0\n",
      "Composite image min value: 6.301514535073559e-08\n",
      "Composite image type: <class 'numpy.ndarray'>\n",
      "Composite image sample: [0.00181519 0.00272699 0.00065751]\n",
      "Composite image shape for sample 7: (127, 2401, 3), dtype: float64\n",
      "Saved: ../spectrogram_images/spectrogram_class_Pn_7.png\n",
      "Sample 8, BHZ shape: (127, 2401), BHN shape: (127, 2401), BHE shape: (127, 2401)\n",
      "Data types: BHZ: float64, BHN: float64, BHE: float64\n",
      "Composite image dtype: float64\n",
      "Composite image max value: 1.0\n",
      "Composite image min value: 1.8205548679729077e-09\n",
      "Composite image type: <class 'numpy.ndarray'>\n",
      "Composite image sample: [2.01240242e-05 3.06057769e-05 1.17422312e-05]\n",
      "Composite image shape for sample 8: (127, 2401, 3), dtype: float64\n",
      "Saved: ../spectrogram_images/spectrogram_class_S_8.png\n",
      "Sample 9, BHZ shape: (127, 2401), BHN shape: (127, 2401), BHE shape: (127, 2401)\n",
      "Data types: BHZ: float64, BHN: float64, BHE: float64\n",
      "Composite image dtype: float64\n",
      "Composite image max value: 1.0\n",
      "Composite image min value: 1.894478752356923e-08\n",
      "Composite image type: <class 'numpy.ndarray'>\n",
      "Composite image sample: [0.00060595 0.00129676 0.00112529]\n",
      "Composite image shape for sample 9: (127, 2401, 3), dtype: float64\n",
      "Saved: ../spectrogram_images/spectrogram_class_S_9.png\n",
      "Sample 10, BHZ shape: (127, 2401), BHN shape: (127, 2401), BHE shape: (127, 2401)\n",
      "Data types: BHZ: float64, BHN: float64, BHE: float64\n",
      "Composite image dtype: float64\n",
      "Composite image max value: 1.0\n",
      "Composite image min value: 3.618501681414972e-08\n",
      "Composite image type: <class 'numpy.ndarray'>\n",
      "Composite image sample: [0.00195189 0.00481605 0.00087731]\n",
      "Composite image shape for sample 10: (127, 2401, 3), dtype: float64\n",
      "Saved: ../spectrogram_images/spectrogram_class_Sn_10.png\n",
      "Sample 11, BHZ shape: (127, 2401), BHN shape: (127, 2401), BHE shape: (127, 2401)\n",
      "Data types: BHZ: float64, BHN: float64, BHE: float64\n",
      "Composite image dtype: float64\n",
      "Composite image max value: 1.0\n",
      "Composite image min value: 2.836498424239528e-08\n",
      "Composite image type: <class 'numpy.ndarray'>\n",
      "Composite image sample: [9.33278045e-05 2.19611418e-04 5.21898254e-04]\n",
      "Composite image shape for sample 11: (127, 2401, 3), dtype: float64\n",
      "Saved: ../spectrogram_images/spectrogram_class_Sn_11.png\n"
     ]
    }
   ],
   "source": [
    "def save_spectrogram_images_from_cwt(cwt_data, labels, output_folder):\n",
    "    num_samples = cwt_data.shape[0]\n",
    "    num_scales = cwt_data.shape[2]\n",
    "\n",
    "    for i in range(num_samples):\n",
    "        sample_data = cwt_data[i]\n",
    "        label = labels[i]\n",
    "        \n",
    "        BHZ = np.array(sample_data[0])\n",
    "        BHN = np.array(sample_data[1])\n",
    "        BHE = np.array(sample_data[2]) \n",
    "        \n",
    "        print(f\"Sample {i}, BHZ shape: {BHZ.shape}, BHN shape: {BHN.shape}, BHE shape: {BHE.shape}\")\n",
    "\n",
    "        print(f\"Data types: BHZ: {BHZ.dtype}, BHN: {BHN.dtype}, BHE: {BHE.dtype}\")\n",
    "        \n",
    "        assert BHZ.shape == BHN.shape == BHE.shape, f\"Shapes don't match: BHZ: {BHZ.shape}, BHN: {BHN.shape}, BHE: {BHE.shape}\"\n",
    "\n",
    "        composite_image = np.zeros((num_scales, BHZ.shape[1], 3))\n",
    "        composite_image[:, :, 0] = np.abs(BHZ)\n",
    "        composite_image[:, :, 1] = np.abs(BHN)\n",
    "        composite_image[:, :, 2] = np.abs(BHE)\n",
    "\n",
    "        if np.isnan(composite_image).any() or np.isinf(composite_image).any():\n",
    "            print(f\"Error: NaN or Inf values detected in composite_image for sample {i}. Skipping this sample.\")\n",
    "            continue\n",
    "\n",
    "        max_value = composite_image.max()\n",
    "        if max_value != 0:\n",
    "            composite_image /= max_value\n",
    "        else:\n",
    "            print(f\"Warning: Max value is zero for sample {i}. Skipping normalization.\")\n",
    "            continue\n",
    "        \n",
    "        print(f\"Composite image dtype: {composite_image.dtype}\")\n",
    "        print(f\"Composite image max value: {composite_image.max()}\")\n",
    "        print(f\"Composite image min value: {composite_image.min()}\")\n",
    "        print(f\"Composite image type: {type(composite_image)}\")\n",
    "        print(f\"Composite image sample: {composite_image[0, 0, :]}\")\n",
    "\n",
    "        print(f\"Composite image shape for sample {i}: {composite_image.shape}, dtype: {composite_image.dtype}\")\n",
    "        \n",
    "        filename = f\"spectrogram_class_{label}_{i}.png\"\n",
    "        filepath = os.path.join(output_folder, filename)\n",
    "        \n",
    "        # Plot the spectrogram\n",
    "        plt.figure(figsize=(10, 6))\n",
    "        plt.imshow(composite_image, aspect='auto')\n",
    "        plt.title(f'Spectrogram Image (Class {label})')\n",
    "        plt.xlabel('Time')\n",
    "        plt.ylabel('Scales')\n",
    "        # plt.colorbar(label='Amplitude')  # Commented for RGB images\n",
    "        \n",
    "        # Save the image\n",
    "        plt.savefig(filepath, format='png')  # Ensure png format\n",
    "        plt.close()  # Close the plot to avoid memory issues\n",
    "\n",
    "        print(f\"Saved: {filepath}\")\n",
    "\n",
    "# Example usage\n",
    "output_folder = \"../spectrogram_images/\"\n",
    "save_spectrogram_images_from_cwt(cwt_transformed_data, df_labels_sampled, output_folder)"
   ]
  }
 ],
 "metadata": {
  "kernelspec": {
   "display_name": "myenv",
   "language": "python",
   "name": "python3"
  },
  "language_info": {
   "codemirror_mode": {
    "name": "ipython",
    "version": 3
   },
   "file_extension": ".py",
   "mimetype": "text/x-python",
   "name": "python",
   "nbconvert_exporter": "python",
   "pygments_lexer": "ipython3",
   "version": "3.11.9"
  }
 },
 "nbformat": 4,
 "nbformat_minor": 2
}
