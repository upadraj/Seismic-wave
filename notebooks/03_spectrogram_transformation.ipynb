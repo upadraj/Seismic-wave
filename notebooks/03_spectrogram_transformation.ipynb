{
 "cells": [
  {
   "cell_type": "code",
   "execution_count": 1,
   "metadata": {},
   "outputs": [],
   "source": [
    "import numpy as np\n",
    "import matplotlib.pyplot as plt\n",
    "from scipy.signal import stft"
   ]
  },
  {
   "cell_type": "code",
   "execution_count": 2,
   "metadata": {},
   "outputs": [],
   "source": [
    "# data = np.load(\"./data/balanced/input_data.npy\")\n",
    "data = np.load(\"./data/balanced/test_data.npy\")"
   ]
  },
  {
   "cell_type": "code",
   "execution_count": 3,
   "metadata": {},
   "outputs": [
    {
     "name": "stdout",
     "output_type": "stream",
     "text": [
      "(1631, 3, 50, 50)\n"
     ]
    }
   ],
   "source": [
    "\n",
    "sampling_rate = 49 \n",
    "nperseg = 98  \n",
    "desired_output_shape = (50, 50)\n",
    "\n",
    "output = np.zeros((data.shape[0], data.shape[1], desired_output_shape[0], desired_output_shape[1]))\n",
    "\n",
    "\n",
    "for i in range(data.shape[0]): \n",
    "    for j in range(data.shape[1]): \n",
    "        _, _, Zxx = stft(data[i, j], fs=sampling_rate, nperseg=nperseg)\n",
    "        spectrogram = np.abs(Zxx)\n",
    "        spectrogram_resized = spectrogram[:desired_output_shape[0], :desired_output_shape[1]]\n",
    "        output[i, j] = spectrogram_resized\n",
    "\n",
    "print(output.shape)\n",
    "\n",
    "# np.save(\"./data/balanced/input_spectrogram.npy\", output)\n",
    "# np.save(\"./data/balanced/test_spectrogram.npy\", output)"
   ]
  },
  {
   "cell_type": "code",
   "execution_count": 4,
   "metadata": {},
   "outputs": [],
   "source": [
    "# plt.figure(figsize=(10, 6))\n",
    "# plt.pcolormesh(output[1][0][0], output[1][0][:,1], spectrogram, shading='gouraud')\n",
    "# plt.title('Spectrogram (STFT)')\n",
    "# plt.ylabel('Frequency [Hz]')\n",
    "# plt.xlabel('Time [sec]')\n",
    "# plt.colorbar(label='Intensity')\n",
    "# plt.show()\n"
   ]
  },
  {
   "cell_type": "code",
   "execution_count": null,
   "metadata": {},
   "outputs": [],
   "source": []
  }
 ],
 "metadata": {
  "kernelspec": {
   "display_name": "a1_env",
   "language": "python",
   "name": "python3"
  },
  "language_info": {
   "codemirror_mode": {
    "name": "ipython",
    "version": 3
   },
   "file_extension": ".py",
   "mimetype": "text/x-python",
   "name": "python",
   "nbconvert_exporter": "python",
   "pygments_lexer": "ipython3",
   "version": "3.9.19"
  }
 },
 "nbformat": 4,
 "nbformat_minor": 2
}
