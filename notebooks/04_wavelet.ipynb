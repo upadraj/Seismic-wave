{
 "cells": [
  {
   "cell_type": "code",
   "execution_count": 1,
   "metadata": {},
   "outputs": [
    {
     "ename": "ValueError",
     "evalue": "index can't contain negative values",
     "output_type": "error",
     "traceback": [
      "\u001b[1;31m---------------------------------------------------------------------------\u001b[0m",
      "\u001b[1;31mValueError\u001b[0m                                Traceback (most recent call last)",
      "Cell \u001b[1;32mIn[1], line 43\u001b[0m\n\u001b[0;32m     40\u001b[0m time_series \u001b[38;5;241m=\u001b[39m np\u001b[38;5;241m.\u001b[39msin(np\u001b[38;5;241m.\u001b[39mlinspace(\u001b[38;5;241m0\u001b[39m, \u001b[38;5;241m8\u001b[39m \u001b[38;5;241m*\u001b[39m np\u001b[38;5;241m.\u001b[39mpi, \u001b[38;5;241m145\u001b[39m))  \u001b[38;5;66;03m# Generate a sine wave for example\u001b[39;00m\n\u001b[0;32m     42\u001b[0m \u001b[38;5;66;03m# Transform the time series into a square matrix\u001b[39;00m\n\u001b[1;32m---> 43\u001b[0m square_matrix \u001b[38;5;241m=\u001b[39m \u001b[43mtransform_to_square_matrix\u001b[49m\u001b[43m(\u001b[49m\u001b[43mtime_series\u001b[49m\u001b[43m,\u001b[49m\u001b[43m \u001b[49m\u001b[43mwavelet\u001b[49m\u001b[38;5;241;43m=\u001b[39;49m\u001b[38;5;124;43m'\u001b[39;49m\u001b[38;5;124;43mhaar\u001b[39;49m\u001b[38;5;124;43m'\u001b[39;49m\u001b[43m,\u001b[49m\u001b[43m \u001b[49m\u001b[43mlevel\u001b[49m\u001b[38;5;241;43m=\u001b[39;49m\u001b[38;5;241;43m2\u001b[39;49m\u001b[43m)\u001b[49m\n\u001b[0;32m     45\u001b[0m \u001b[38;5;66;03m# Display the square matrix\u001b[39;00m\n\u001b[0;32m     46\u001b[0m \u001b[38;5;28mprint\u001b[39m(\u001b[38;5;124m\"\u001b[39m\u001b[38;5;124mSquare Matrix Shape:\u001b[39m\u001b[38;5;124m\"\u001b[39m, square_matrix\u001b[38;5;241m.\u001b[39mshape)\n",
      "Cell \u001b[1;32mIn[1], line 32\u001b[0m, in \u001b[0;36mtransform_to_square_matrix\u001b[1;34m(time_series, wavelet, level)\u001b[0m\n\u001b[0;32m     30\u001b[0m coeffs_flat \u001b[38;5;241m=\u001b[39m np\u001b[38;5;241m.\u001b[39mconcatenate(coeffs)\n\u001b[0;32m     31\u001b[0m \u001b[38;5;28;01mif\u001b[39;00m \u001b[38;5;28mlen\u001b[39m(coeffs_flat) \u001b[38;5;241m!=\u001b[39m padded_length:\n\u001b[1;32m---> 32\u001b[0m     coeffs_flat \u001b[38;5;241m=\u001b[39m \u001b[43mnp\u001b[49m\u001b[38;5;241;43m.\u001b[39;49m\u001b[43mpad\u001b[49m\u001b[43m(\u001b[49m\u001b[43mcoeffs_flat\u001b[49m\u001b[43m,\u001b[49m\u001b[43m \u001b[49m\u001b[43m(\u001b[49m\u001b[38;5;241;43m0\u001b[39;49m\u001b[43m,\u001b[49m\u001b[43m \u001b[49m\u001b[43mpadded_length\u001b[49m\u001b[43m \u001b[49m\u001b[38;5;241;43m-\u001b[39;49m\u001b[43m \u001b[49m\u001b[38;5;28;43mlen\u001b[39;49m\u001b[43m(\u001b[49m\u001b[43mcoeffs_flat\u001b[49m\u001b[43m)\u001b[49m\u001b[43m)\u001b[49m\u001b[43m,\u001b[49m\u001b[43m \u001b[49m\u001b[43mmode\u001b[49m\u001b[38;5;241;43m=\u001b[39;49m\u001b[38;5;124;43m'\u001b[39;49m\u001b[38;5;124;43mconstant\u001b[39;49m\u001b[38;5;124;43m'\u001b[39;49m\u001b[43m)\u001b[49m\n\u001b[0;32m     34\u001b[0m \u001b[38;5;66;03m# Reshape into a square matrix\u001b[39;00m\n\u001b[0;32m     35\u001b[0m square_matrix \u001b[38;5;241m=\u001b[39m coeffs_flat\u001b[38;5;241m.\u001b[39mreshape(size, size)\n",
      "File \u001b[1;32mc:\\Users\\incognito\\miniconda3\\envs\\a1_env\\lib\\site-packages\\numpy\\lib\\arraypad.py:748\u001b[0m, in \u001b[0;36mpad\u001b[1;34m(array, pad_width, mode, **kwargs)\u001b[0m\n\u001b[0;32m    745\u001b[0m     \u001b[38;5;28;01mraise\u001b[39;00m \u001b[38;5;167;01mTypeError\u001b[39;00m(\u001b[38;5;124m'\u001b[39m\u001b[38;5;124m`pad_width` must be of integral type.\u001b[39m\u001b[38;5;124m'\u001b[39m)\n\u001b[0;32m    747\u001b[0m \u001b[38;5;66;03m# Broadcast to shape (array.ndim, 2)\u001b[39;00m\n\u001b[1;32m--> 748\u001b[0m pad_width \u001b[38;5;241m=\u001b[39m \u001b[43m_as_pairs\u001b[49m\u001b[43m(\u001b[49m\u001b[43mpad_width\u001b[49m\u001b[43m,\u001b[49m\u001b[43m \u001b[49m\u001b[43marray\u001b[49m\u001b[38;5;241;43m.\u001b[39;49m\u001b[43mndim\u001b[49m\u001b[43m,\u001b[49m\u001b[43m \u001b[49m\u001b[43mas_index\u001b[49m\u001b[38;5;241;43m=\u001b[39;49m\u001b[38;5;28;43;01mTrue\u001b[39;49;00m\u001b[43m)\u001b[49m\n\u001b[0;32m    750\u001b[0m \u001b[38;5;28;01mif\u001b[39;00m \u001b[38;5;28mcallable\u001b[39m(mode):\n\u001b[0;32m    751\u001b[0m     \u001b[38;5;66;03m# Old behavior: Use user-supplied function with np.apply_along_axis\u001b[39;00m\n\u001b[0;32m    752\u001b[0m     function \u001b[38;5;241m=\u001b[39m mode\n",
      "File \u001b[1;32mc:\\Users\\incognito\\miniconda3\\envs\\a1_env\\lib\\site-packages\\numpy\\lib\\arraypad.py:514\u001b[0m, in \u001b[0;36m_as_pairs\u001b[1;34m(x, ndim, as_index)\u001b[0m\n\u001b[0;32m    512\u001b[0m         x \u001b[38;5;241m=\u001b[39m x\u001b[38;5;241m.\u001b[39mravel()  \u001b[38;5;66;03m# Ensure x[0], x[1] works\u001b[39;00m\n\u001b[0;32m    513\u001b[0m         \u001b[38;5;28;01mif\u001b[39;00m as_index \u001b[38;5;129;01mand\u001b[39;00m (x[\u001b[38;5;241m0\u001b[39m] \u001b[38;5;241m<\u001b[39m \u001b[38;5;241m0\u001b[39m \u001b[38;5;129;01mor\u001b[39;00m x[\u001b[38;5;241m1\u001b[39m] \u001b[38;5;241m<\u001b[39m \u001b[38;5;241m0\u001b[39m):\n\u001b[1;32m--> 514\u001b[0m             \u001b[38;5;28;01mraise\u001b[39;00m \u001b[38;5;167;01mValueError\u001b[39;00m(\u001b[38;5;124m\"\u001b[39m\u001b[38;5;124mindex can\u001b[39m\u001b[38;5;124m'\u001b[39m\u001b[38;5;124mt contain negative values\u001b[39m\u001b[38;5;124m\"\u001b[39m)\n\u001b[0;32m    515\u001b[0m         \u001b[38;5;28;01mreturn\u001b[39;00m ((x[\u001b[38;5;241m0\u001b[39m], x[\u001b[38;5;241m1\u001b[39m]),) \u001b[38;5;241m*\u001b[39m ndim\n\u001b[0;32m    517\u001b[0m \u001b[38;5;28;01mif\u001b[39;00m as_index \u001b[38;5;129;01mand\u001b[39;00m x\u001b[38;5;241m.\u001b[39mmin() \u001b[38;5;241m<\u001b[39m \u001b[38;5;241m0\u001b[39m:\n",
      "\u001b[1;31mValueError\u001b[0m: index can't contain negative values"
     ]
    }
   ],
   "source": [
    "import numpy as np\n",
    "import pywt\n",
    "import matplotlib.pyplot as plt\n",
    "\n",
    "\n",
    "def transform_to_square_matrix(time_series, wavelet='haar', level=None):\n",
    "    \"\"\"\n",
    "    Transform a 1D time series into a square matrix using Haar Wavelet Transform.\n",
    "    \n",
    "    Parameters:\n",
    "    - time_series: 1D numpy array (time series)\n",
    "    - wavelet: Name of the wavelet to use (default is 'haar')\n",
    "    - level: Level of wavelet decomposition (default is None, use full decomposition)\n",
    "    \n",
    "    Returns:\n",
    "    - square_matrix: Square matrix representation of the time series\n",
    "    \"\"\"\n",
    "    # Ensure the length of time_series is a perfect square\n",
    "    length = len(time_series)\n",
    "    size = int(np.ceil(np.sqrt(length)))\n",
    "    padded_length = size * size\n",
    "    \n",
    "    # Pad the time series to make its length a perfect square\n",
    "    padded_series = np.pad(time_series, (0, padded_length - length), mode='constant')\n",
    "    \n",
    "    # Perform Wavelet Transform\n",
    "    coeffs = pywt.wavedec(padded_series, wavelet, level=level)\n",
    "    \n",
    "    # Flatten coefficients and pad if necessary\n",
    "    coeffs_flat = np.concatenate(coeffs)\n",
    "    if len(coeffs_flat) < padded_length:\n",
    "        coeffs_flat = np.pad(coeffs_flat, (0, padded_length - len(coeffs_flat)), mode='constant')\n",
    "    \n",
    "    # Reshape into a square matrix\n",
    "    square_matrix = coeffs_flat.reshape(size, size)\n",
    "    \n",
    "    return square_matrix\n",
    "\n",
    "# Example 1D time series data (can be replaced with your actual time series)\n",
    "time_series = np.sin(np.linspace(0, 8 * np.pi, 145))  # Generate a sine wave for example\n",
    "\n",
    "# Transform the time series into a square matrix\n",
    "square_matrix = transform_to_square_matrix(time_series, wavelet='haar', level=2)\n",
    "\n",
    "# Display the square matrix\n",
    "print(\"Square Matrix Shape:\", square_matrix.shape)\n",
    "print(square_matrix)\n",
    "\n",
    "# Plot the square matrix\n",
    "plt.imshow(square_matrix, cmap='hot', interpolation='nearest')\n",
    "plt.title('Wavelet Transform (Square Matrix Representation)')\n",
    "plt.colorbar()\n",
    "plt.show()"
   ]
  },
  {
   "cell_type": "code",
   "execution_count": null,
   "metadata": {},
   "outputs": [],
   "source": []
  }
 ],
 "metadata": {
  "kernelspec": {
   "display_name": "a1_env",
   "language": "python",
   "name": "python3"
  },
  "language_info": {
   "codemirror_mode": {
    "name": "ipython",
    "version": 3
   },
   "file_extension": ".py",
   "mimetype": "text/x-python",
   "name": "python",
   "nbconvert_exporter": "python",
   "pygments_lexer": "ipython3",
   "version": "3.9.19"
  }
 },
 "nbformat": 4,
 "nbformat_minor": 2
}
