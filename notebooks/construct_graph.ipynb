{
 "cells": [
  {
   "cell_type": "code",
   "outputs": [],
   "source": [
    "import numpy as np\n",
    "import pandas as pd\n",
    "from sklearn.metrics.pairwise import cosine_similarity\n",
    "from sklearn.preprocessing import normalize\n",
    "import matplotlib.pyplot as plt\n",
    "import networkx as nx\n",
    "import pickle"
   ],
   "metadata": {
    "collapsed": false,
    "ExecuteTime": {
     "end_time": "2024-09-30T21:47:35.498603Z",
     "start_time": "2024-09-30T21:47:35.495146Z"
    }
   },
   "id": "8258b280c06146d0",
   "execution_count": 77
  },
  {
   "cell_type": "code",
   "execution_count": 32,
   "id": "initial_id",
   "metadata": {
    "collapsed": true,
    "ExecuteTime": {
     "end_time": "2024-09-30T20:54:13.027021Z",
     "start_time": "2024-09-30T20:54:13.024187Z"
    }
   },
   "outputs": [],
   "source": [
    "features_path = '../data/processed/balance_16k/preprocessing/x_train.csv'\n",
    "labels_path = '../data/processed/balance_16k/preprocessing/y_train.csv'"
   ]
  },
  {
   "cell_type": "code",
   "outputs": [],
   "source": [
    "features = pd.read_csv(features_path).values\n",
    "labels = pd.read_csv(labels_path).values"
   ],
   "metadata": {
    "collapsed": false,
    "ExecuteTime": {
     "end_time": "2024-09-30T20:54:25.806048Z",
     "start_time": "2024-09-30T20:54:15.488984Z"
    }
   },
   "id": "d30381b4677c1e11",
   "execution_count": 33
  },
  {
   "cell_type": "code",
   "outputs": [],
   "source": [
    "features_normalized = normalize(features, norm='l2', axis=1)"
   ],
   "metadata": {
    "collapsed": false,
    "ExecuteTime": {
     "end_time": "2024-09-30T20:54:26.146850Z",
     "start_time": "2024-09-30T20:54:25.806048Z"
    }
   },
   "id": "fdcc59c66e5ddfd6",
   "execution_count": 34
  },
  {
   "cell_type": "code",
   "outputs": [
    {
     "name": "stderr",
     "output_type": "stream",
     "text": [
      "C:\\Users\\pradh\\anaconda3\\envs\\venv\\Lib\\site-packages\\sklearn\\utils\\extmath.py:205: RuntimeWarning: invalid value encountered in matmul\n",
      "  ret = a @ b\n"
     ]
    }
   ],
   "source": [
    "similarity_matrix = cosine_similarity(features_normalized)"
   ],
   "metadata": {
    "collapsed": false,
    "ExecuteTime": {
     "end_time": "2024-09-30T20:55:39.494643Z",
     "start_time": "2024-09-30T20:54:33.299424Z"
    }
   },
   "id": "d9e48d1fa78f934c",
   "execution_count": 35
  },
  {
   "cell_type": "code",
   "outputs": [
    {
     "data": {
      "text/plain": "(16303, 16303)"
     },
     "execution_count": 36,
     "metadata": {},
     "output_type": "execute_result"
    }
   ],
   "source": [
    "similarity_matrix.shape"
   ],
   "metadata": {
    "collapsed": false,
    "ExecuteTime": {
     "end_time": "2024-09-30T20:55:39.498402Z",
     "start_time": "2024-09-30T20:55:39.495648Z"
    }
   },
   "id": "d2c60d84e879c0f",
   "execution_count": 36
  },
  {
   "cell_type": "code",
   "outputs": [
    {
     "name": "stdout",
     "output_type": "stream",
     "text": [
      "Min value in features: -27083595\n",
      "Max value in features: 24617084\n",
      "Mean value in features: -5680.2196367300085\n",
      "Standard deviation in features: 417896.1237213523\n"
     ]
    }
   ],
   "source": [
    "print(\"Min value in features:\", features.min())\n",
    "print(\"Max value in features:\", features.max())\n",
    "\n",
    "# You can also check the standard deviation and mean\n",
    "print(\"Mean value in features:\", features.mean())\n",
    "print(\"Standard deviation in features:\", features.std())"
   ],
   "metadata": {
    "collapsed": false,
    "ExecuteTime": {
     "end_time": "2024-09-30T20:55:40.123906Z",
     "start_time": "2024-09-30T20:55:39.498402Z"
    }
   },
   "id": "23d5cfc7e96bfecb",
   "execution_count": 37
  },
  {
   "cell_type": "code",
   "outputs": [
    {
     "data": {
      "text/plain": "<Figure size 800x600 with 1 Axes>",
      "image/png": "[encoded data removed]"
     },
     "metadata": {},
     "output_type": "display_data"
    }
   ],
   "source": [
    "similarity_values = similarity_matrix.flatten()\n",
    "\n",
    "# Plot a histogram of the similarity values\n",
    "plt.figure(figsize=(8, 6))\n",
    "plt.hist(similarity_values, bins=50, edgecolor='k', alpha=0.7)\n",
    "plt.title('Distribution of Similarity Values')\n",
    "plt.xlabel('Similarity Score')\n",
    "plt.ylabel('Frequency')\n",
    "plt.grid(True)\n",
    "plt.show()"
   ],
   "metadata": {
    "collapsed": false,
    "ExecuteTime": {
     "end_time": "2024-09-30T21:14:00.906371Z",
     "start_time": "2024-09-30T21:13:58.934085Z"
    }
   },
   "id": "c971f4bda1ed8184",
   "execution_count": 39
  },
  {
   "cell_type": "code",
   "outputs": [],
   "source": [
    "percentile_60 = np.percentile(similarity_values, 60)\n",
    "percentile_65 = np.percentile(similarity_values, 65)\n",
    "percentile_70 = np.percentile(similarity_values, 70)\n",
    "percentile_75 = np.percentile(similarity_values, 75)\n",
    "percentile_80 = np.percentile(similarity_values, 80)\n",
    "percentile_85 = np.percentile(similarity_values, 85)\n",
    "percentile_90 = np.percentile(similarity_values, 90)\n"
   ],
   "metadata": {
    "collapsed": false,
    "ExecuteTime": {
     "end_time": "2024-09-30T21:34:29.175655Z",
     "start_time": "2024-09-30T21:34:18.548219Z"
    }
   },
   "id": "e9c3c4c77bd1590d",
   "execution_count": 62
  },
  {
   "cell_type": "code",
   "outputs": [],
   "source": [
    "threshold = percentile_65\n",
    "adjacency_matrix = (similarity_matrix >= threshold).astype(int)\n",
    "\n",
    "np.fill_diagonal(adjacency_matrix, 0)"
   ],
   "metadata": {
    "collapsed": false,
    "ExecuteTime": {
     "end_time": "2024-09-30T21:38:24.350368Z",
     "start_time": "2024-09-30T21:38:23.972570Z"
    }
   },
   "id": "6ec867bd7262bdab",
   "execution_count": 67
  },
  {
   "cell_type": "code",
   "outputs": [],
   "source": [
    "graph = nx.from_numpy_array(adjacency_matrix)"
   ],
   "metadata": {
    "collapsed": false,
    "ExecuteTime": {
     "end_time": "2024-09-30T21:40:11.464386Z",
     "start_time": "2024-09-30T21:38:24.432313Z"
    }
   },
   "id": "57a16a5f18b7b5f2",
   "execution_count": 68
  },
  {
   "cell_type": "code",
   "outputs": [
    {
     "data": {
      "text/plain": "(46504715, 16303)"
     },
     "execution_count": 69,
     "metadata": {},
     "output_type": "execute_result"
    }
   ],
   "source": [
    "num_nodes = graph.number_of_nodes()\n",
    "num_edges = graph.number_of_edges()\n",
    "\n",
    "num_edges, num_nodes"
   ],
   "metadata": {
    "collapsed": false,
    "ExecuteTime": {
     "end_time": "2024-09-30T21:40:11.476917Z",
     "start_time": "2024-09-30T21:40:11.465389Z"
    }
   },
   "id": "d8966a6cba922c7f",
   "execution_count": 69
  },
  {
   "cell_type": "code",
   "outputs": [
    {
     "name": "stdout",
     "output_type": "stream",
     "text": [
      "Number of isolated nodes: 105\n"
     ]
    }
   ],
   "source": [
    "isolated_nodes = list(nx.isolates(graph))\n",
    "print(f\"Number of isolated nodes: {len(isolated_nodes)}\")\n"
   ],
   "metadata": {
    "collapsed": false,
    "ExecuteTime": {
     "end_time": "2024-09-30T21:40:11.486961Z",
     "start_time": "2024-09-30T21:40:11.477921Z"
    }
   },
   "id": "1a89aa4235264676",
   "execution_count": 70
  },
  {
   "cell_type": "code",
   "outputs": [],
   "source": [
    "for i, feat in enumerate(features):\n",
    "    graph.nodes[i]['features'] = feat"
   ],
   "metadata": {
    "collapsed": false,
    "ExecuteTime": {
     "end_time": "2024-09-30T21:41:08.380847Z",
     "start_time": "2024-09-30T21:41:08.371897Z"
    }
   },
   "id": "73df2154e53a74bf",
   "execution_count": 71
  },
  {
   "cell_type": "code",
   "outputs": [],
   "source": [
    "for i, label in enumerate(labels):\n",
    "    graph.nodes[i]['label'] = label"
   ],
   "metadata": {
    "collapsed": false,
    "ExecuteTime": {
     "end_time": "2024-09-30T21:41:28.542353Z",
     "start_time": "2024-09-30T21:41:28.535019Z"
    }
   },
   "id": "1a75068730c9eeb2",
   "execution_count": 72
  },
  {
   "cell_type": "code",
   "outputs": [
    {
     "name": "stdout",
     "output_type": "stream",
     "text": [
      "{'features': array([1009, 1051, 1083, ..., -733, -767, -764], dtype=int64), 'label': array(['Pn'], dtype=object)}\n"
     ]
    }
   ],
   "source": [
    "print(graph.nodes[0])"
   ],
   "metadata": {
    "collapsed": false,
    "ExecuteTime": {
     "end_time": "2024-09-30T21:41:35.463062Z",
     "start_time": "2024-09-30T21:41:35.459363Z"
    }
   },
   "id": "4b732cea68f4ba30",
   "execution_count": 73
  },
  {
   "cell_type": "code",
   "outputs": [],
   "source": [
    "largest_cc = max(nx.connected_components(graph), key=len)"
   ],
   "metadata": {
    "collapsed": false,
    "ExecuteTime": {
     "end_time": "2024-09-30T21:41:56.501590Z",
     "start_time": "2024-09-30T21:41:51.733338Z"
    }
   },
   "id": "e27ca7d9876cdbb7",
   "execution_count": 74
  },
  {
   "cell_type": "code",
   "outputs": [
    {
     "name": "stdout",
     "output_type": "stream",
     "text": [
      "Size of the largest connected component: 16196\n"
     ]
    }
   ],
   "source": [
    "print(f\"Size of the largest connected component: {len(largest_cc)}\")"
   ],
   "metadata": {
    "collapsed": false,
    "ExecuteTime": {
     "end_time": "2024-09-30T21:41:58.774969Z",
     "start_time": "2024-09-30T21:41:58.771720Z"
    }
   },
   "id": "a15ff857db55c386",
   "execution_count": 75
  },
  {
   "cell_type": "code",
   "outputs": [],
   "source": [
    "save_path = '../data/processed/balance_16k/model_input/graph_with_features_and_labels.gpickle'\n",
    "pickle.dump(graph, open(save_path, 'wb'))\n"
   ],
   "metadata": {
    "collapsed": false,
    "ExecuteTime": {
     "end_time": "2024-09-30T21:48:56.080317Z",
     "start_time": "2024-09-30T21:48:18.755513Z"
    }
   },
   "id": "7464c782b6fa8b68",
   "execution_count": 78
  },
  {
   "cell_type": "code",
   "outputs": [],
   "source": [
    "graph = pickle.load(open('../data/processed/balance_16k/model_input/graph_with_features_and_labels.gpickle', 'rb'))"
   ],
   "metadata": {
    "collapsed": false,
    "ExecuteTime": {
     "end_time": "2024-09-30T21:57:58.172628Z",
     "start_time": "2024-09-30T21:57:08.279364Z"
    }
   },
   "id": "b1f5f1b38a9283f0",
   "execution_count": 80
  },
  {
   "cell_type": "code",
   "outputs": [
    {
     "name": "stdout",
     "output_type": "stream",
     "text": [
      "{'features': array([1009, 1051, 1083, ..., -733, -767, -764], dtype=int64), 'label': array(['Pn'], dtype=object)}\n"
     ]
    }
   ],
   "source": [
    "print(graph.nodes[0])"
   ],
   "metadata": {
    "collapsed": false,
    "ExecuteTime": {
     "end_time": "2024-09-30T21:57:58.177892Z",
     "start_time": "2024-09-30T21:57:58.173631Z"
    }
   },
   "id": "2ce6e5c734aa45eb",
   "execution_count": 81
  },
  {
   "cell_type": "code",
   "outputs": [],
   "source": [],
   "metadata": {
    "collapsed": false
   },
   "id": "52991673572cbda4"
  }
 ],
 "metadata": {
  "kernelspec": {
   "display_name": "Python 3",
   "language": "python",
   "name": "python3"
  },
  "language_info": {
   "codemirror_mode": {
    "name": "ipython",
    "version": 2
   },
   "file_extension": ".py",
   "mimetype": "text/x-python",
   "name": "python",
   "nbconvert_exporter": "python",
   "pygments_lexer": "ipython2",
   "version": "2.7.6"
  }
 },
 "nbformat": 4,
 "nbformat_minor": 5
}
