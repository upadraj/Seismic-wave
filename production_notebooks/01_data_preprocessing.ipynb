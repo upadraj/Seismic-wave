{
 "cells": [
  {
   "cell_type": "code",
   "execution_count": 1,
   "metadata": {
    "ExecuteTime": {
     "end_time": "2024-09-10T17:46:40.299750Z",
     "start_time": "2024-09-10T17:46:38.242135Z"
    }
   },
   "outputs": [],
   "source": [
    "import sys\n",
    "import os\n",
    "import numpy as np\n",
    "import pandas as pd\n",
    "sys.path.append(os.path.abspath(os.path.join(r'../../Seismic-wave/')))\n",
    "\n",
    "from utils.data_utils import (\n",
    "    test_train_split,\n",
    "    split_3_channel,\n",
    "    short_time_fourier_transform,\n",
    "    integer_label,\n",
    "    count_unique_colum_and_vlaues\n",
    ")\n",
    "\n",
    "from utils.augment_data import augment_data"
   ]
  },
  {
   "cell_type": "code",
   "execution_count": 2,
   "metadata": {
    "ExecuteTime": {
     "end_time": "2024-09-10T17:46:40.302415Z",
     "start_time": "2024-09-10T17:46:40.299750Z"
    }
   },
   "outputs": [
    {
     "name": "stdout",
     "output_type": "stream",
     "text": [
      "Index(['S'], dtype='object')\n"
     ]
    }
   ],
   "source": [
    "feature_path = \"../data/processed/balance_16k/preprocessing/x_train.csv\"\n",
    "label_path = \"../data/processed/balance_16k/preprocessing/y_train.csv\"\n",
    "\n",
    "df = pd.read_csv(feature_path)\n",
    "df_label = pd.read_csv(label_path)\n",
    "\n",
    "train, test = test_train_split(df, df_label, split=0.1)\n",
    "\n",
    "s_train_features, train_labels = split_3_channel(train)\n",
    "s_test_features, test_labels = split_3_channel(test)"
   ]
  },
  {
   "cell_type": "code",
   "execution_count": 3,
   "metadata": {},
   "outputs": [
    {
     "data": {
      "text/plain": [
       "((14672, 3, 2401), (14672,), (1631, 3, 2401), (1631,))"
      ]
     },
     "execution_count": 3,
     "metadata": {},
     "output_type": "execute_result"
    }
   ],
   "source": [
    "s_train_features.shape, train_labels.shape , s_test_features.shape, test_labels.shape"
   ]
  },
  {
   "cell_type": "code",
   "execution_count": 3,
   "metadata": {
    "ExecuteTime": {
     "end_time": "2024-09-10T17:46:54.775038Z",
     "start_time": "2024-09-10T17:46:50.633582Z"
    },
    "collapsed": false
   },
   "outputs": [],
   "source": [
    "# train_features, train_labels = augment_data(train)\n",
    "# train_features['labels'] = train_labels['labels']"
   ]
  },
  {
   "cell_type": "code",
   "execution_count": 4,
   "metadata": {
    "ExecuteTime": {
     "end_time": "2024-09-10T17:32:26.544960Z",
     "start_time": "2024-09-10T17:32:19.121983Z"
    },
    "collapsed": false
   },
   "outputs": [
    {
     "name": "stdout",
     "output_type": "stream",
     "text": [
      "['Pg' 'Sn' 'Lg' ... 'Lg' 'Sn' 'Pg']\n",
      "Label Mapping: {'Lg': 0, 'P': 1, 'Pg': 2, 'Pn': 3, 'S': 4, 'Sn': 5}\n",
      "Label Mapping: {'Lg': 0, 'P': 1, 'Pg': 2, 'Pn': 3, 'S': 4, 'Sn': 5}\n"
     ]
    },
    {
     "data": {
      "text/plain": [
       "((14672, 3, 2401), torch.Size([14672]), (1631, 3, 2401), torch.Size([1631]))"
      ]
     },
     "execution_count": 4,
     "metadata": {},
     "output_type": "execute_result"
    }
   ],
   "source": [
    "print(train_labels)\n",
    "train_labels = integer_label(train_labels)\n",
    "test_labels = integer_label(test_labels)\n",
    "\n",
    "# train_features = short_time_fourier_transform(data=s_train_features)\n",
    "# test_features = short_time_fourier_transform(data=s_test_features)"
   ]
  },
  {
   "cell_type": "code",
   "execution_count": 5,
   "metadata": {},
   "outputs": [
    {
     "data": {
      "text/plain": [
       "tensor([5, 1, 1,  ..., 5, 2, 3])"
      ]
     },
     "execution_count": 5,
     "metadata": {},
     "output_type": "execute_result"
    }
   ],
   "source": []
  },
  {
   "cell_type": "code",
   "execution_count": 5,
   "metadata": {
    "ExecuteTime": {
     "end_time": "2024-09-10T17:32:30.712012Z",
     "start_time": "2024-09-10T17:32:29.036694Z"
    }
   },
   "outputs": [],
   "source": [
    "np.save(\"../train_features.npy\", s_train_features)\n",
    "np.save(\"../train_labels.npy\", train_labels)\n",
    "\n",
    "np.save(\"../test_features.npy\", s_test_features)\n",
    "np.save(\"../test_labels.npy\", test_labels)"
   ]
  },
  {
   "cell_type": "code",
   "execution_count": 6,
   "metadata": {
    "ExecuteTime": {
     "end_time": "2024-09-10T17:32:35.620448Z",
     "start_time": "2024-09-10T17:32:35.617467Z"
    }
   },
   "outputs": [
    {
     "name": "stdout",
     "output_type": "stream",
     "text": [
      "Train features: (14672, 3, 50, 50), Train label: torch.Size([14672]) \n",
      "Test features: (1631, 3, 50, 50), Test label: torch.Size([1631]) \n"
     ]
    }
   ],
   "source": [
    "print(f\"Train features: {train_features.shape}, Train label: {train_labels.shape} \")\n",
    "print(f\"Test features: {test_features.shape}, Test label: {test_labels.shape} \")"
   ]
  },
  {
   "cell_type": "code",
   "execution_count": 7,
   "metadata": {
    "ExecuteTime": {
     "end_time": "2024-09-10T17:32:36.025129Z",
     "start_time": "2024-09-10T17:32:36.021712Z"
    }
   },
   "outputs": [
    {
     "name": "stdout",
     "output_type": "stream",
     "text": [
      "0 2693\n",
      "1 2704\n",
      "2 2710\n",
      "3 2719\n",
      "4 1154\n",
      "5 2692\n"
     ]
    }
   ],
   "source": [
    "unique_value, count = count_unique_colum_and_vlaues(train_labels)\n",
    "for x in range(len(count)):\n",
    "    print(unique_value[x], count[x])"
   ]
  }
 ],
 "metadata": {
  "kernelspec": {
   "display_name": "a1_env",
   "language": "python",
   "name": "python3"
  },
  "language_info": {
   "codemirror_mode": {
    "name": "ipython",
    "version": 3
   },
   "file_extension": ".py",
   "mimetype": "text/x-python",
   "name": "python",
   "nbconvert_exporter": "python",
   "pygments_lexer": "ipython3",
   "version": "3.12.5"
  }
 },
 "nbformat": 4,
 "nbformat_minor": 2
}
