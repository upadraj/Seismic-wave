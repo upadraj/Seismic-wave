{
 "cells": [
  {
   "cell_type": "code",
   "execution_count": null,
   "id": "initial_id",
   "metadata": {
    "collapsed": true,
    "ExecuteTime": {
     "end_time": "2024-09-15T18:54:56.140838Z",
     "start_time": "2024-09-15T18:54:56.139839Z"
    }
   },
   "outputs": [],
   "source": [
    "import numpy as np\n",
    "import pywt\n",
    "import matplotlib.pyplot as plt\n",
    "import pandas as pd\n",
    "from sklearn.model_selection import train_test_split"
   ]
  },
  {
   "cell_type": "code",
   "outputs": [],
   "source": [
    "train_features_path = \"../data/processed/balance_16k/preprocessing/x_train.csv\"\n",
    "labels_path = \"../data/processed/balance_16k/preprocessing/y_train.csv\""
   ],
   "metadata": {
    "collapsed": false,
    "ExecuteTime": {
     "end_time": "2024-09-15T18:19:10.997499Z",
     "start_time": "2024-09-15T18:19:10.994708Z"
    }
   },
   "id": "797eaa67772a70db",
   "execution_count": 2
  },
  {
   "cell_type": "code",
   "outputs": [],
   "source": [
    "df_train = pd.read_csv(train_features_path, header=None)\n",
    "df_labels = pd.read_csv(labels_path, header=None)"
   ],
   "metadata": {
    "collapsed": false,
    "ExecuteTime": {
     "end_time": "2024-09-15T18:19:19.449656Z",
     "start_time": "2024-09-15T18:19:10.997499Z"
    }
   },
   "id": "fc7c8dd3c2576cde",
   "execution_count": 3
  },
  {
   "cell_type": "code",
   "outputs": [],
   "source": [
    "df_train.columns = [str(i) for i in range(df_train.shape[1])]\n",
    "df_labels.columns = [str(i) for i in range(df_labels.shape[1])]"
   ],
   "metadata": {
    "collapsed": false,
    "ExecuteTime": {
     "end_time": "2024-09-15T18:19:19.453508Z",
     "start_time": "2024-09-15T18:19:19.449656Z"
    }
   },
   "id": "2415463de8b0c04d",
   "execution_count": 4
  },
  {
   "cell_type": "code",
   "outputs": [],
   "source": [
    "def apply_cwt_to_single_row(row, num_columns_per_channel, scales, waveletname='morl'):\n",
    "    BHZ = row[:num_columns_per_channel]\n",
    "    BHN = row[num_columns_per_channel:2*num_columns_per_channel]\n",
    "    BHE = row[2*num_columns_per_channel:]\n",
    "    \n",
    "    cwt_BHZ, _ = pywt.cwt(BHZ, scales, waveletname)\n",
    "    cwt_BHN, _ = pywt.cwt(BHN, scales, waveletname)\n",
    "    cwt_BHE, _ = pywt.cwt(BHE, scales, waveletname)\n",
    "    \n",
    "    # Stack the CWT results for the 3 channels into a single array\n",
    "    cwt_combined = np.stack([cwt_BHZ, cwt_BHN, cwt_BHE], axis=0)\n",
    "    \n",
    "    return cwt_combined"
   ],
   "metadata": {
    "collapsed": false,
    "ExecuteTime": {
     "end_time": "2024-09-15T18:24:43.739284Z",
     "start_time": "2024-09-15T18:24:43.735488Z"
    }
   },
   "id": "55349fc44ce34062",
   "execution_count": 5
  },
  {
   "cell_type": "code",
   "outputs": [],
   "source": [
    "def apply_cwt_to_all_rows(data, num_columns_per_channel, scales, waveletname='morl'):\n",
    "    cwt_results = []\n",
    "    \n",
    "    for _, row in data.iterrows():\n",
    "        row_array = row.to_numpy()\n",
    "        cwt_result = apply_cwt_to_single_row(row_array, num_columns_per_channel, scales, waveletname)\n",
    "        cwt_results.append(cwt_result)\n",
    "    \n",
    "    return np.array(cwt_results)"
   ],
   "metadata": {
    "collapsed": false,
    "ExecuteTime": {
     "end_time": "2024-09-15T18:25:02.902368Z",
     "start_time": "2024-09-15T18:25:02.898586Z"
    }
   },
   "id": "63da1ebb346f9ae7",
   "execution_count": 6
  },
  {
   "cell_type": "code",
   "outputs": [
    {
     "ename": "MemoryError",
     "evalue": "Unable to allocate 111. GiB for an array with shape (16304, 3, 127, 2401) and data type float64",
     "output_type": "error",
     "traceback": [
      "\u001B[1;31m---------------------------------------------------------------------------\u001B[0m",
      "\u001B[1;31mMemoryError\u001B[0m                               Traceback (most recent call last)",
      "Cell \u001B[1;32mIn[8], line 4\u001B[0m\n\u001B[0;32m      1\u001B[0m scales \u001B[38;5;241m=\u001B[39m np\u001B[38;5;241m.\u001B[39marange(\u001B[38;5;241m1\u001B[39m, \u001B[38;5;241m128\u001B[39m)\n\u001B[0;32m      2\u001B[0m num_columns_per_channel \u001B[38;5;241m=\u001B[39m \u001B[38;5;241m2401\u001B[39m\n\u001B[1;32m----> 4\u001B[0m cwt_transformed_data \u001B[38;5;241m=\u001B[39m \u001B[43mapply_cwt_to_all_rows\u001B[49m\u001B[43m(\u001B[49m\u001B[43mdf_train\u001B[49m\u001B[43m,\u001B[49m\u001B[43m \u001B[49m\u001B[43mnum_columns_per_channel\u001B[49m\u001B[43m,\u001B[49m\u001B[43m \u001B[49m\u001B[43mscales\u001B[49m\u001B[43m)\u001B[49m\n",
      "Cell \u001B[1;32mIn[6], line 9\u001B[0m, in \u001B[0;36mapply_cwt_to_all_rows\u001B[1;34m(data, num_columns_per_channel, scales, waveletname)\u001B[0m\n\u001B[0;32m      6\u001B[0m     cwt_result \u001B[38;5;241m=\u001B[39m apply_cwt_to_single_row(row_array, num_columns_per_channel, scales, waveletname)\n\u001B[0;32m      7\u001B[0m     cwt_results\u001B[38;5;241m.\u001B[39mappend(cwt_result)\n\u001B[1;32m----> 9\u001B[0m \u001B[38;5;28;01mreturn\u001B[39;00m np\u001B[38;5;241m.\u001B[39marray(cwt_results)\n",
      "\u001B[1;31mMemoryError\u001B[0m: Unable to allocate 111. GiB for an array with shape (16304, 3, 127, 2401) and data type float64"
     ]
    }
   ],
   "source": [
    "scales = np.arange(1, 128) #Need to decide on the scales\n",
    "num_columns_per_channel = 2401\n",
    "\n",
    "cwt_transformed_data = apply_cwt_to_all_rows(df_train, num_columns_per_channel, scales)"
   ],
   "metadata": {
    "collapsed": false,
    "ExecuteTime": {
     "end_time": "2024-09-15T18:54:56.136836Z",
     "start_time": "2024-09-15T18:27:42.911004Z"
    }
   },
   "id": "71a8a3c106d29b30",
   "execution_count": 8
  },
  {
   "cell_type": "code",
   "outputs": [],
   "source": [
    "df_train, df_test, train_labels, test_labels = train_test_split(cwt_transformed_data, df_labels, test_size=0.1, random_state=42, shuffle=True)"
   ],
   "metadata": {
    "collapsed": false,
    "ExecuteTime": {
     "start_time": "2024-09-15T18:54:56.141838Z"
    }
   },
   "id": "67b89cd29c6fb20"
  },
  {
   "cell_type": "code",
   "outputs": [],
   "source": [],
   "metadata": {
    "collapsed": false
   },
   "id": "6478808854b24113"
  }
 ],
 "metadata": {
  "kernelspec": {
   "display_name": "Python 3",
   "language": "python",
   "name": "python3"
  },
  "language_info": {
   "codemirror_mode": {
    "name": "ipython",
    "version": 2
   },
   "file_extension": ".py",
   "mimetype": "text/x-python",
   "name": "python",
   "nbconvert_exporter": "python",
   "pygments_lexer": "ipython2",
   "version": "2.7.6"
  }
 },
 "nbformat": 4,
 "nbformat_minor": 5
}
