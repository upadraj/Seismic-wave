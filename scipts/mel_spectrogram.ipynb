{
 "cells": [
  {
   "cell_type": "code",
   "execution_count": 23,
   "metadata": {},
   "outputs": [],
   "source": [
    "import librosa\n",
    "import librosa.display\n",
    "import numpy as np\n",
    "import matplotlib.pyplot as plt\n",
    "from scipy.ndimage import zoom"
   ]
  },
  {
   "cell_type": "code",
   "execution_count": 27,
   "metadata": {},
   "outputs": [
    {
     "name": "stdout",
     "output_type": "stream",
     "text": [
      "Shape of the transformed data: (1400, 3, 50, 50)\n"
     ]
    }
   ],
   "source": [
    "wave_data = np.random.rand(1400, 3, 7401)  \n",
    "sample_rate = 22050\n",
    "\n",
    "def compute_mel_spectrogram(waveform, sr):\n",
    "    S = librosa.feature.melspectrogram(y=waveform, sr=sr, n_mels=128, hop_length=32)\n",
    "    S_dB = librosa.power_to_db(S, ref=np.max)\n",
    "    S_dB_resized = zoom(S_dB, (50 / S_dB.shape[0], 50 / S_dB.shape[1]))\n",
    "    \n",
    "    return S_dB_resized\n",
    "\n",
    "mel_spectrograms_resized = np.zeros((1400, 3, 50, 50))\n",
    "\n",
    "for i in range(wave_data.shape[0]): \n",
    "    for j in range(wave_data.shape[1]): \n",
    "        mel_spectrogram = compute_mel_spectrogram(wave_data[i, j], sample_rate)\n",
    "        mel_spectrograms_resized[i, j] = mel_spectrogram\n",
    "\n",
    "\n",
    "print(\"Shape of the transformed data:\", mel_spectrograms_resized.shape)"
   ]
  }
 ],
 "metadata": {
  "kernelspec": {
   "display_name": "a1_env",
   "language": "python",
   "name": "python3"
  },
  "language_info": {
   "codemirror_mode": {
    "name": "ipython",
    "version": 3
   },
   "file_extension": ".py",
   "mimetype": "text/x-python",
   "name": "python",
   "nbconvert_exporter": "python",
   "pygments_lexer": "ipython3",
   "version": "3.9.19"
  }
 },
 "nbformat": 4,
 "nbformat_minor": 2
}
