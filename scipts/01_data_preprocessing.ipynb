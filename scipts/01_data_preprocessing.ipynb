{
 "cells": [
  {
   "cell_type": "code",
   "execution_count": 1,
   "metadata": {
    "ExecuteTime": {
     "end_time": "2024-09-08T17:18:48.774472Z",
     "start_time": "2024-09-08T17:18:46.772587Z"
    }
   },
   "outputs": [],
   "source": [
    "import sys\n",
    "import os\n",
    "import numpy as np\n",
    "sys.path.append(os.path.abspath(os.path.join(r'C:\\Users\\pradh\\OneDrive - University of New Mexico\\Desktop\\Fall 2024\\CS521- Data Mining\\Data_mining')))\n",
    "\n",
    "from utils.data_utils import (\n",
    "    test_train_split,\n",
    "    split_3_channel,\n",
    "    short_time_fourier_transform,\n",
    "    integer_label,\n",
    "    count_unique_colum_and_vlaues\n",
    ")"
   ]
  },
  {
   "cell_type": "code",
   "execution_count": 2,
   "metadata": {
    "ExecuteTime": {
     "end_time": "2024-09-08T17:18:57.874660Z",
     "start_time": "2024-09-08T17:18:48.774472Z"
    }
   },
   "outputs": [],
   "source": [
    "feature_path = \"../data/processed/balance_16k/preprocessing/x_train.csv\"\n",
    "label_path = \"../data/processed/balance_16k/preprocessing/y_train.csv\"\n",
    "\n",
    "train, test = test_train_split(feature_path, label_path, split=0.1)\n"
   ]
  },
  {
   "cell_type": "code",
   "outputs": [
    {
     "data": {
      "text/plain": "9666      P\n4188      S\n6020     Sn\n12929    Pg\n15052     P\n         ..\n14302    Lg\n2459     Pg\n5436      P\n4865     Sn\n8761      P\nName: labels, Length: 14672, dtype: object"
     },
     "execution_count": 3,
     "metadata": {},
     "output_type": "execute_result"
    }
   ],
   "source": [
    "train['labels']"
   ],
   "metadata": {
    "collapsed": false,
    "ExecuteTime": {
     "end_time": "2024-09-08T17:18:57.880361Z",
     "start_time": "2024-09-08T17:18:57.874660Z"
    }
   },
   "execution_count": 3
  },
  {
   "cell_type": "code",
   "outputs": [
    {
     "name": "stdout",
     "output_type": "stream",
     "text": [
      "Label Mapping: {'Lg': 0, 'P': 1, 'Pg': 2, 'Pn': 3, 'S': 4, 'Sn': 5}\n",
      "Label Mapping: {'Lg': 0, 'P': 1, 'Pg': 2, 'Pn': 3, 'S': 4, 'Sn': 5}\n"
     ]
    }
   ],
   "source": [
    "s_train_features, train_labels = split_3_channel(train)\n",
    "train_labels = integer_label(train_labels)\n",
    "\n",
    "s_test_features, test_labels = split_3_channel(test)\n",
    "test_labels = integer_label(test_labels)\n",
    "\n",
    "train_features = short_time_fourier_transform(data=s_train_features)\n",
    "test_features = short_time_fourier_transform(data=s_test_features)"
   ],
   "metadata": {
    "collapsed": false,
    "ExecuteTime": {
     "end_time": "2024-09-08T17:20:09.435314Z",
     "start_time": "2024-09-08T17:19:02.118729Z"
    }
   },
   "execution_count": 4
  },
  {
   "cell_type": "code",
   "outputs": [],
   "source": [
    "# Assume the target class you want to augment is class 1\n",
    "target_class = 4\n",
    "\n",
    "# Step 1: Isolate the target class\n",
    "# Find indices where train_labels match the target class\n",
    "target_indices = np.where(train_labels == target_class)[0]"
   ],
   "metadata": {
    "collapsed": false,
    "ExecuteTime": {
     "end_time": "2024-09-08T17:47:23.055235Z",
     "start_time": "2024-09-08T17:47:23.052368Z"
    }
   },
   "execution_count": 18
  },
  {
   "cell_type": "code",
   "outputs": [],
   "source": [
    "# Extract the corresponding data for augmentation\n",
    "data_to_augment = s_train_features[target_indices]\n",
    "labels_to_augment = train_labels[target_indices]"
   ],
   "metadata": {
    "collapsed": false,
    "ExecuteTime": {
     "end_time": "2024-09-08T17:47:23.515027Z",
     "start_time": "2024-09-08T17:47:23.477019Z"
    }
   },
   "execution_count": 19
  },
  {
   "cell_type": "code",
   "outputs": [],
   "source": [
    "# Step 2: Define your augmentation functions (add noise, time shift, scaling)\n",
    "def add_noise(data, noise_level=0.05):\n",
    "    noise = np.random.randn(*data.shape) * noise_level\n",
    "    return data + noise"
   ],
   "metadata": {
    "collapsed": false,
    "ExecuteTime": {
     "end_time": "2024-09-08T17:47:24.534853Z",
     "start_time": "2024-09-08T17:47:24.532393Z"
    }
   },
   "execution_count": 20
  },
  {
   "cell_type": "code",
   "outputs": [],
   "source": [
    "def time_shift(data, shift_max=100):\n",
    "    shift = np.random.randint(-shift_max, shift_max)\n",
    "    return np.roll(data, shift, axis=1)  # Shifting along the time axis"
   ],
   "metadata": {
    "collapsed": false,
    "ExecuteTime": {
     "end_time": "2024-09-08T17:47:24.816719Z",
     "start_time": "2024-09-08T17:47:24.814390Z"
    }
   },
   "execution_count": 21
  },
  {
   "cell_type": "code",
   "outputs": [],
   "source": [
    "def scale_amplitude(data, scale_factor=1.2):\n",
    "    return data * scale_factor"
   ],
   "metadata": {
    "collapsed": false,
    "ExecuteTime": {
     "end_time": "2024-09-08T17:47:25.180411Z",
     "start_time": "2024-09-08T17:47:25.177909Z"
    }
   },
   "execution_count": 22
  },
  {
   "cell_type": "code",
   "outputs": [],
   "source": [
    "# Step 3: Apply augmentation to the data for the specific class\n",
    "augmented_data = []\n",
    "augmented_labels = []"
   ],
   "metadata": {
    "collapsed": false,
    "ExecuteTime": {
     "end_time": "2024-09-08T17:47:26.027759Z",
     "start_time": "2024-09-08T17:47:26.023465Z"
    }
   },
   "execution_count": 23
  },
  {
   "cell_type": "code",
   "outputs": [],
   "source": [
    "for sample in data_to_augment:\n",
    "    augmented_sample = sample.copy()\n",
    "    \n",
    "    # Apply different augmentations (you can apply one or multiple augmentations)\n",
    "    augmented_sample = add_noise(augmented_sample, noise_level=0.05)\n",
    "    augmented_sample = time_shift(augmented_sample, shift_max=100)\n",
    "    augmented_sample = scale_amplitude(augmented_sample, scale_factor=1.2)\n",
    "    \n",
    "    # Add augmented sample and label to the augmented lists\n",
    "    augmented_data.append(augmented_sample)\n",
    "    augmented_labels.append(target_class)  # Same label for augmented data"
   ],
   "metadata": {
    "collapsed": false,
    "ExecuteTime": {
     "end_time": "2024-09-08T17:47:27.172651Z",
     "start_time": "2024-09-08T17:47:26.918917Z"
    }
   },
   "execution_count": 24
  },
  {
   "cell_type": "code",
   "outputs": [],
   "source": [
    "# Convert augmented data to numpy arrays\n",
    "augmented_data = np.array(augmented_data)\n",
    "augmented_labels = np.array(augmented_labels)\n"
   ],
   "metadata": {
    "collapsed": false,
    "ExecuteTime": {
     "end_time": "2024-09-08T17:47:27.814278Z",
     "start_time": "2024-09-08T17:47:27.779938Z"
    }
   },
   "execution_count": 25
  },
  {
   "cell_type": "code",
   "outputs": [],
   "source": [
    "# Step 4: Reintegrate augmented data into the original dataset\n",
    "s_train_features = np.concatenate((s_train_features, augmented_data), axis=0)\n",
    "train_labels = np.concatenate((train_labels, augmented_labels), axis=0)"
   ],
   "metadata": {
    "collapsed": false,
    "ExecuteTime": {
     "end_time": "2024-09-08T17:47:28.454337Z",
     "start_time": "2024-09-08T17:47:28.261997Z"
    }
   },
   "execution_count": 26
  },
  {
   "cell_type": "code",
   "outputs": [],
   "source": [
    "# Step 5: Apply Short-Time Fourier Transform to the augmented training features\n",
    "# train_features = short_time_fourier_transform(data=s_train_features)\n",
    "# test_features = short_time_fourier_transform(data=s_test_features)"
   ],
   "metadata": {
    "collapsed": false,
    "ExecuteTime": {
     "end_time": "2024-09-08T17:47:29.882745Z",
     "start_time": "2024-09-08T17:47:29.880143Z"
    }
   },
   "execution_count": 27
  },
  {
   "cell_type": "code",
   "execution_count": 28,
   "metadata": {
    "ExecuteTime": {
     "end_time": "2024-09-08T17:47:31.612874Z",
     "start_time": "2024-09-08T17:47:30.520996Z"
    }
   },
   "outputs": [],
   "source": [
    "np.save(\"../data/processed/balance_16k/model_input/train_features.npy\", train_features)\n",
    "np.save(\"../data/processed/balance_16k/model_input/train_labels.npy\", train_labels)\n",
    "\n",
    "np.save(\"../data/processed/balance_16k/model_input/test_features.npy\", test_features)\n",
    "np.save(\"../data/processed/balance_16k/model_input/test_labels.npy\", test_labels)"
   ]
  },
  {
   "cell_type": "code",
   "execution_count": 29,
   "metadata": {
    "ExecuteTime": {
     "end_time": "2024-09-08T17:47:31.616146Z",
     "start_time": "2024-09-08T17:47:31.612874Z"
    }
   },
   "outputs": [
    {
     "name": "stdout",
     "output_type": "stream",
     "text": [
      "Train features: (15854, 3, 50, 50), Train label: (18218,) \n",
      "Test features: (1631, 3, 50, 50), Test label: torch.Size([1631]) \n"
     ]
    }
   ],
   "source": [
    "print(f\"Train features: {train_features.shape}, Train label: {train_labels.shape} \")\n",
    "print(f\"Test features: {test_features.shape}, Test label: {test_labels.shape} \")"
   ]
  },
  {
   "cell_type": "code",
   "execution_count": 5,
   "metadata": {
    "ExecuteTime": {
     "end_time": "2024-09-07T17:45:34.249225Z",
     "start_time": "2024-09-07T17:45:34.241358Z"
    }
   },
   "outputs": [
    {
     "name": "stdout",
     "output_type": "stream",
     "text": [
      "0 2696\n",
      "1 2713\n",
      "2 2711\n",
      "3 2683\n",
      "4 1174\n",
      "5 2695\n"
     ]
    }
   ],
   "source": [
    "unique_value, count = count_unique_colum_and_vlaues(train_labels)\n",
    "for x in range(len(count)):\n",
    "    print(unique_value[x], count[x])"
   ]
  },
  {
   "cell_type": "code",
   "execution_count": null,
   "metadata": {},
   "outputs": [],
   "source": []
  }
 ],
 "metadata": {
  "kernelspec": {
   "display_name": "data_mining",
   "language": "python",
   "name": "python3"
  },
  "language_info": {
   "codemirror_mode": {
    "name": "ipython",
    "version": 3
   },
   "file_extension": ".py",
   "mimetype": "text/x-python",
   "name": "python",
   "nbconvert_exporter": "python",
   "pygments_lexer": "ipython3",
   "version": "3.9.19"
  }
 },
 "nbformat": 4,
 "nbformat_minor": 2
}
