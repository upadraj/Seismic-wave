{
 "cells": [
  {
   "cell_type": "code",
   "execution_count": 1,
   "metadata": {},
   "outputs": [],
   "source": [
    "import sys\n",
    "import os\n",
    "import numpy as np\n",
    "sys.path.append(os.path.abspath(os.path.join(r'C:\\Users\\incognito\\OneDrive\\Desktop\\PHD_UNM\\DataMining\\sesmicWaveClassification')))\n",
    "\n",
    "from utils.data_utils import (\n",
    "    test_train_split,\n",
    "    split_3_channel,\n",
    "    short_time_fourier_transform,\n",
    "    integer_label,\n",
    "    count_unique_colum_and_vlaues\n",
    ")"
   ]
  },
  {
   "cell_type": "code",
   "execution_count": 2,
   "metadata": {},
   "outputs": [
    {
     "name": "stdout",
     "output_type": "stream",
     "text": [
      "Label Mapping: {'Lg': 0, 'P': 1, 'Pg': 2, 'Pn': 3, 'S': 4, 'Sn': 5}\n",
      "Label Mapping: {'Lg': 0, 'P': 1, 'Pg': 2, 'Pn': 3, 'S': 4, 'Sn': 5}\n"
     ]
    }
   ],
   "source": [
    "feature_path = \"../data/processed/balance_16k/preprocessing/x_train.csv\"\n",
    "label_path = \"../data/processed/balance_16k/preprocessing/y_train.csv\"\n",
    "\n",
    "train, test = test_train_split(feature_path, label_path, split=0.1)\n",
    "\n",
    "s_train_features, train_labels = split_3_channel(train)\n",
    "train_labels = integer_label(train_labels)\n",
    "\n",
    "s_test_features, test_labels = split_3_channel(test)\n",
    "test_labels = integer_label(test_labels)\n",
    "\n",
    "\n",
    "train_features = short_time_fourier_transform(data=s_train_features)\n",
    "test_features = short_time_fourier_transform(data=s_test_features)"
   ]
  },
  {
   "cell_type": "code",
   "execution_count": 3,
   "metadata": {},
   "outputs": [],
   "source": [
    "np.save(\"../data/processed/balance_16k/model_input/train_features.npy\", train_features)\n",
    "np.save(\"../data/processed/balance_16k/model_input/train_labels.npy\", train_labels)\n",
    "\n",
    "np.save(\"../data/processed/balance_16k/model_input/test_features.npy\", test_features)\n",
    "np.save(\"../data/processed/balance_16k/model_input/test_labels.npy\", test_labels)"
   ]
  },
  {
   "cell_type": "code",
   "execution_count": 4,
   "metadata": {},
   "outputs": [
    {
     "name": "stdout",
     "output_type": "stream",
     "text": [
      "Train features: (14672, 3, 50, 50), Train label: torch.Size([14672]) \n",
      "Test features: (1631, 3, 50, 50), Test label: torch.Size([1631]) \n"
     ]
    }
   ],
   "source": [
    "print(f\"Train features: {train_features.shape}, Train label: {train_labels.shape} \")\n",
    "print(f\"Test features: {test_features.shape}, Test label: {test_labels.shape} \")"
   ]
  },
  {
   "cell_type": "code",
   "execution_count": 5,
   "metadata": {},
   "outputs": [
    {
     "name": "stdout",
     "output_type": "stream",
     "text": [
      "0 2692\n",
      "1 2678\n",
      "2 2700\n",
      "3 2708\n",
      "4 1171\n",
      "5 2723\n"
     ]
    },
    {
     "ename": "",
     "evalue": "",
     "output_type": "error",
     "traceback": [
      "\u001b[1;31mThe Kernel crashed while executing code in the current cell or a previous cell. \n",
      "\u001b[1;31mPlease review the code in the cell(s) to identify a possible cause of the failure. \n",
      "\u001b[1;31mClick <a href='https://aka.ms/vscodeJupyterKernelCrash'>here</a> for more info. \n",
      "\u001b[1;31mView Jupyter <a href='command:jupyter.viewOutput'>log</a> for further details."
     ]
    }
   ],
   "source": [
    "unique_value, count = count_unique_colum_and_vlaues(train_labels)\n",
    "for x in range(len(count)):\n",
    "    print(unique_value[x], count[x])"
   ]
  }
 ],
 "metadata": {
  "kernelspec": {
   "display_name": "a1_env",
   "language": "python",
   "name": "python3"
  },
  "language_info": {
   "codemirror_mode": {
    "name": "ipython",
    "version": 3
   },
   "file_extension": ".py",
   "mimetype": "text/x-python",
   "name": "python",
   "nbconvert_exporter": "python",
   "pygments_lexer": "ipython3",
   "version": "3.9.19"
  }
 },
 "nbformat": 4,
 "nbformat_minor": 2
}
