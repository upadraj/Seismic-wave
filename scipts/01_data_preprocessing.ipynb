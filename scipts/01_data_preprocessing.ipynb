{
 "cells": [
  {
   "cell_type": "code",
   "execution_count": 6,
   "metadata": {},
   "outputs": [],
   "source": [
    "import sys\n",
    "import os\n",
    "import numpy as np\n",
    "sys.path.append(os.path.abspath(os.path.join(r'C:\\Users\\incognito\\OneDrive\\Desktop\\data_mining')))"
   ]
  },
  {
   "cell_type": "code",
   "execution_count": 7,
   "metadata": {},
   "outputs": [],
   "source": [
    "from utils.data_utils import (\n",
    "    test_train_split,\n",
    "    split_3_channel,\n",
    "    short_time_fourier_transform,\n",
    ")"
   ]
  },
  {
   "cell_type": "code",
   "execution_count": 8,
   "metadata": {},
   "outputs": [],
   "source": [
    "feature_path = \"../data/processed/balance_16k/preprocessing/x_train.csv\"\n",
    "label_path = \"../data/processed/balance_16k/preprocessing/y_train.csv\"\n",
    "\n",
    "train, test = test_train_split(feature_path, label_path, split=0.1)\n",
    "s_train_feature, train_label = split_3_channel(train)\n",
    "s_test_feature, test_label = split_3_channel(test)\n",
    "train_feature = short_time_fourier_transform(data=s_train_feature)\n",
    "test_feature = short_time_fourier_transform(data=s_test_feature)"
   ]
  },
  {
   "cell_type": "code",
   "execution_count": 9,
   "metadata": {},
   "outputs": [],
   "source": [
    "np.save(\"../data/processed/balance_16k/model_input/train_feature.npy\", train_feature)\n",
    "np.save(\"../data/processed/balance_16k/model_input/train_feature.npy\", train_label)\n",
    "\n",
    "np.save(\"../data/processed/balance_16k/model_input/test_feature.npy\", test_feature)\n",
    "np.save(\"../data/processed/balance_16k/model_input/train_feature.npy\", test_label)"
   ]
  },
  {
   "cell_type": "code",
   "execution_count": 13,
   "metadata": {},
   "outputs": [
    {
     "name": "stdout",
     "output_type": "stream",
     "text": [
      "train_feature.shape (14672, 3, 50, 50), Test feature shape: (1631, 3, 50, 50) \n",
      "train_feature.shape (14672,), Test feature shape: (1631,) \n"
     ]
    }
   ],
   "source": [
    "print(f\"train_feature.shape {train_feature.shape}, Test feature shape: {test_feature.shape} \")\n",
    "print(f\"train_feature.shape {train_label.shape}, Test feature shape: {test_label.shape} \")"
   ]
  }
 ],
 "metadata": {
  "kernelspec": {
   "display_name": "data_mining",
   "language": "python",
   "name": "python3"
  },
  "language_info": {
   "codemirror_mode": {
    "name": "ipython",
    "version": 3
   },
   "file_extension": ".py",
   "mimetype": "text/x-python",
   "name": "python",
   "nbconvert_exporter": "python",
   "pygments_lexer": "ipython3",
   "version": "3.9.19"
  }
 },
 "nbformat": 4,
 "nbformat_minor": 2
}
