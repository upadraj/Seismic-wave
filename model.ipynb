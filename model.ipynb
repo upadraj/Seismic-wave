{
 "cells": [
  {
   "cell_type": "code",
   "execution_count": 1,
   "metadata": {},
   "outputs": [],
   "source": [
    "import random\n",
    "import torch\n",
    "import torchmetrics\n",
    "\n",
    "import numpy as np\n",
    "import pandas as pd\n",
    "import torch.nn as nn\n",
    "import torch.optim as optim\n",
    "import torch.nn.functional as F\n",
    "\n",
    "from torchvision import transforms\n"
   ]
  },
  {
   "cell_type": "code",
   "execution_count": 2,
   "metadata": {},
   "outputs": [],
   "source": [
    "# transform = transforms.Compose([\n",
    "#     transforms.ToTensor(),\n",
    "#     transforms.Normalize((0.5, 0.5, 0.5), (0.5, 0.5, 0.5))  # Example for RGB images\n",
    "# ])"
   ]
  },
  {
   "cell_type": "code",
   "execution_count": 3,
   "metadata": {},
   "outputs": [],
   "source": [
    "x = np.load(\"./data/balanced/input_data.npy\")\n",
    "labels = np.load(\"./data/balanced/label_data.npy\", allow_pickle=True)"
   ]
  },
  {
   "cell_type": "code",
   "execution_count": 4,
   "metadata": {},
   "outputs": [],
   "source": [
    "x_tensor = torch.from_numpy(x)\n",
    "x_t = x_tensor.view(-1, 3, 49, 49)\n",
    "inputs = x_t.float()\n"
   ]
  },
  {
   "cell_type": "code",
   "execution_count": 5,
   "metadata": {},
   "outputs": [
    {
     "name": "stdout",
     "output_type": "stream",
     "text": [
      "Label Mapping: {'Lg': 0, 'P': 1, 'Pg': 2, 'Pn': 3, 'S': 4, 'Sn': 5}\n"
     ]
    }
   ],
   "source": [
    "unique_labels = np.unique(labels)\n",
    "label_mapping = {label: idx for idx, label in enumerate(unique_labels)}\n",
    "print(\"Label Mapping:\", label_mapping)\n",
    "integer_labels = np.array([label_mapping[label] for label in labels])\n",
    "targets = torch.from_numpy(integer_labels)\n",
    "targets = targets.long()"
   ]
  },
  {
   "cell_type": "code",
   "execution_count": 6,
   "metadata": {},
   "outputs": [],
   "source": [
    "# x_min = inputs.min()\n",
    "# x_max = inputs.max()\n",
    "# print((x_min, x_max))\n",
    "\n",
    "# inputs = 2 * (inputs - x_min) / (x_max - x_min) -1"
   ]
  },
  {
   "cell_type": "code",
   "execution_count": 7,
   "metadata": {},
   "outputs": [
    {
     "name": "stdout",
     "output_type": "stream",
     "text": [
      "cuda\n"
     ]
    }
   ],
   "source": [
    "device = \"cuda\" if torch.cuda.is_available() else \"cpu\"\n",
    "print(device)"
   ]
  },
  {
   "cell_type": "code",
   "execution_count": 8,
   "metadata": {},
   "outputs": [],
   "source": [
    "class CNN(nn.Module):\n",
    "    def __init__(self):\n",
    "        super(CNN, self).__init__()\n",
    "\n",
    "        self.conv1 = nn.Conv2d(in_channels=3, out_channels=32, kernel_size=3, padding=1)\n",
    "        self.conv2 = nn.Conv2d(\n",
    "            in_channels=32, out_channels=64, kernel_size=3, padding=1\n",
    "        )\n",
    "        self.conv3 = nn.Conv2d(\n",
    "            in_channels=64, out_channels=128, kernel_size=3, padding=1\n",
    "        )\n",
    "\n",
    "        self.pool = nn.MaxPool2d(kernel_size=2, stride=2, padding=0)\n",
    "        # self.dropout = nn.Dropout(p=0.25)\n",
    "\n",
    "        self.fc1 = nn.Linear(128 * 6 * 6, 256)\n",
    "        self.fc2 = nn.Linear(256, 128)\n",
    "        self.fc3 = nn.Linear(128, 6)\n",
    "\n",
    "    def forward(self, x):\n",
    "        conv1 = self.pool(F.leaky_relu(self.conv1(x)))  # torch.Size([13042, 16, 24, 24])\n",
    "        conv2 = self.pool(F.tanh(self.conv2(conv1)))  # torch.Size([13042, 32, 12, 12])\n",
    "        conv3 = self.pool(F.tanh(self.conv3(conv2)))  # torch.Size([13042, 64, 6, 6])\n",
    "        \n",
    "        # dropout = self.dropout(conv3)\n",
    "\n",
    "        flatten = conv3.view(-1, 128 * 6 * 6)\n",
    "\n",
    "        fc1 = F.tanh(self.fc1(flatten))\n",
    "        fc2 = F.tanh(self.fc2(fc1))\n",
    "        fc3 = F.tanh(self.fc3(fc2))\n",
    "\n",
    "        return fc3"
   ]
  },
  {
   "cell_type": "code",
   "execution_count": 9,
   "metadata": {},
   "outputs": [
    {
     "name": "stdout",
     "output_type": "stream",
     "text": [
      "Epoch 1/50, Cross Entropy Loss: 1.795331358909607\n",
      "Epoch 2/50, Cross Entropy Loss: 1.7775285243988037\n",
      "Epoch 3/50, Cross Entropy Loss: 1.7513447999954224\n",
      "Epoch 4/50, Cross Entropy Loss: 1.7278757095336914\n",
      "Epoch 5/50, Cross Entropy Loss: 1.6988202333450317\n",
      "Epoch 6/50, Cross Entropy Loss: 1.686674952507019\n",
      "Epoch 7/50, Cross Entropy Loss: 1.6643508672714233\n",
      "Epoch 8/50, Cross Entropy Loss: 1.6566336154937744\n",
      "Epoch 9/50, Cross Entropy Loss: 1.6358985900878906\n",
      "Epoch 10/50, Cross Entropy Loss: 1.6240592002868652\n",
      "Epoch 11/50, Cross Entropy Loss: 1.6083415746688843\n",
      "Epoch 12/50, Cross Entropy Loss: 1.593199610710144\n",
      "Epoch 13/50, Cross Entropy Loss: 1.5827605724334717\n",
      "Epoch 14/50, Cross Entropy Loss: 1.5719510316848755\n",
      "Epoch 15/50, Cross Entropy Loss: 1.5601954460144043\n",
      "Epoch 16/50, Cross Entropy Loss: 1.5493184328079224\n",
      "Epoch 17/50, Cross Entropy Loss: 1.5385733842849731\n",
      "Epoch 18/50, Cross Entropy Loss: 1.527693271636963\n",
      "Epoch 19/50, Cross Entropy Loss: 1.515462040901184\n",
      "Epoch 20/50, Cross Entropy Loss: 1.5034631490707397\n",
      "Epoch 21/50, Cross Entropy Loss: 1.491947889328003\n",
      "Epoch 22/50, Cross Entropy Loss: 1.4800063371658325\n",
      "Epoch 23/50, Cross Entropy Loss: 1.4671404361724854\n",
      "Epoch 24/50, Cross Entropy Loss: 1.4539048671722412\n",
      "Epoch 25/50, Cross Entropy Loss: 1.44035804271698\n",
      "Epoch 26/50, Cross Entropy Loss: 1.4262014627456665\n",
      "Epoch 27/50, Cross Entropy Loss: 1.4160221815109253\n",
      "Epoch 28/50, Cross Entropy Loss: 1.4033170938491821\n",
      "Epoch 29/50, Cross Entropy Loss: 1.3936102390289307\n",
      "Epoch 30/50, Cross Entropy Loss: 1.3819421529769897\n",
      "Epoch 31/50, Cross Entropy Loss: 1.3720372915267944\n",
      "Epoch 32/50, Cross Entropy Loss: 1.361523151397705\n",
      "Epoch 33/50, Cross Entropy Loss: 1.350705623626709\n",
      "Epoch 34/50, Cross Entropy Loss: 1.3402611017227173\n",
      "Epoch 35/50, Cross Entropy Loss: 1.3300316333770752\n",
      "Epoch 36/50, Cross Entropy Loss: 1.3181589841842651\n",
      "Epoch 37/50, Cross Entropy Loss: 1.3054790496826172\n",
      "Epoch 38/50, Cross Entropy Loss: 1.2933119535446167\n",
      "Epoch 39/50, Cross Entropy Loss: 1.2813633680343628\n",
      "Epoch 40/50, Cross Entropy Loss: 1.2695521116256714\n",
      "Epoch 41/50, Cross Entropy Loss: 1.2587225437164307\n",
      "Epoch 42/50, Cross Entropy Loss: 1.2466596364974976\n",
      "Epoch 43/50, Cross Entropy Loss: 1.2370550632476807\n",
      "Epoch 44/50, Cross Entropy Loss: 1.2255522012710571\n",
      "Epoch 45/50, Cross Entropy Loss: 1.2157171964645386\n",
      "Epoch 46/50, Cross Entropy Loss: 1.2041780948638916\n",
      "Epoch 47/50, Cross Entropy Loss: 1.1937379837036133\n",
      "Epoch 48/50, Cross Entropy Loss: 1.1838375329971313\n",
      "Epoch 49/50, Cross Entropy Loss: 1.1744968891143799\n",
      "Epoch 50/50, Cross Entropy Loss: 1.1648106575012207\n"
     ]
    }
   ],
   "source": [
    "model = CNN()\n",
    "model = model.to(device=device)\n",
    "criterion = nn.CrossEntropyLoss()\n",
    "optimizer = optim.Rprop(model.parameters(), lr=0.0006)\n",
    "\n",
    "warmup_steps = 5\n",
    "epochs = 50\n",
    "\n",
    "schedular = torch.optim.lr_scheduler.StepLR(optimizer, step_size=10, gamma=0.1)\n",
    "\n",
    "inputs = inputs.to(device=device)\n",
    "targets = targets.to(device=device)\n",
    "\n",
    "for epoch in range(epochs):\n",
    "    optimizer.zero_grad()\n",
    "    outputs = model.forward(inputs)\n",
    "    loss = criterion(outputs, targets)\n",
    "    loss.backward()\n",
    "    optimizer.step()\n",
    "    \n",
    "    print(f\"Epoch {epoch+1}/{epochs}, Cross Entropy Loss: {loss.item()}\")"
   ]
  },
  {
   "cell_type": "code",
   "execution_count": 10,
   "metadata": {},
   "outputs": [
    {
     "name": "stdout",
     "output_type": "stream",
     "text": [
      "Label Mapping: {'Lg': 0, 'P': 1, 'Pg': 2, 'Pn': 3, 'S': 4, 'Sn': 5}\n"
     ]
    }
   ],
   "source": [
    "x = np.load(\"./data/balanced/test_data.npy\")\n",
    "labels = np.load(\"./data/balanced/test_label_data.npy\", allow_pickle=True)\n",
    "\n",
    "x_tensor = torch.from_numpy(x)\n",
    "x_t = x_tensor.view(-1, 3, 49, 49)\n",
    "inputs = x_t.float()\n",
    "inputs = inputs.to(device)\n",
    "\n",
    "unique_labels = np.unique(labels)\n",
    "label_mapping = {label: idx for idx, label in enumerate(unique_labels)}\n",
    "print(\"Label Mapping:\", label_mapping)\n",
    "integer_labels = np.array([label_mapping[label] for label in labels])\n",
    "targets = torch.from_numpy(integer_labels)\n",
    "targets = targets.long()\n",
    "targets = targets.to(device=device)"
   ]
  },
  {
   "cell_type": "code",
   "execution_count": 11,
   "metadata": {},
   "outputs": [],
   "source": [
    "y_pred = model(inputs)"
   ]
  },
  {
   "cell_type": "code",
   "execution_count": 12,
   "metadata": {},
   "outputs": [],
   "source": [
    "probabilities = F.softmax(y_pred, dim=1)\n",
    "\n",
    "# Get the predicted class with the highest probability\n",
    "predicted_class = torch.argmax(probabilities, dim=1)"
   ]
  },
  {
   "cell_type": "code",
   "execution_count": 13,
   "metadata": {},
   "outputs": [
    {
     "name": "stdout",
     "output_type": "stream",
     "text": [
      "tensor([4, 1, 0,  ..., 5, 0, 5], device='cuda:0')\n"
     ]
    }
   ],
   "source": [
    "predicted_class = predicted_class.to(device=device)\n",
    "print(targets)"
   ]
  },
  {
   "cell_type": "code",
   "execution_count": 14,
   "metadata": {},
   "outputs": [],
   "source": [
    "accuracy_metric  = torchmetrics.Accuracy(task=\"multiclass\", num_classes=6).to(device=device)\n",
    "accuracy = accuracy_metric(predicted_class, targets)"
   ]
  },
  {
   "cell_type": "code",
   "execution_count": 15,
   "metadata": {},
   "outputs": [
    {
     "data": {
      "text/plain": [
       "tensor(0.4145, device='cuda:0')"
      ]
     },
     "execution_count": 15,
     "metadata": {},
     "output_type": "execute_result"
    }
   ],
   "source": [
    "accuracy"
   ]
  }
 ],
 "metadata": {
  "kernelspec": {
   "display_name": "a1_env",
   "language": "python",
   "name": "python3"
  },
  "language_info": {
   "codemirror_mode": {
    "name": "ipython",
    "version": 3
   },
   "file_extension": ".py",
   "mimetype": "text/x-python",
   "name": "python",
   "nbconvert_exporter": "python",
   "pygments_lexer": "ipython3",
   "version": "3.9.19"
  }
 },
 "nbformat": 4,
 "nbformat_minor": 2
}
