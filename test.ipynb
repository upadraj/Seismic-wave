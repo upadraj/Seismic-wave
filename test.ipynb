{
 "cells": [
  {
   "cell_type": "code",
   "execution_count": 1,
   "id": "initial_id",
   "metadata": {
    "collapsed": true,
    "ExecuteTime": {
     "end_time": "2024-09-05T18:14:59.161491Z",
     "start_time": "2024-09-05T18:14:58.900644Z"
    }
   },
   "outputs": [],
   "source": [
    "import pandas as pd\n",
    "import numpy as np"
   ]
  },
  {
   "cell_type": "code",
   "outputs": [],
   "source": [
    "xtr = pd.read_csv('data/XTr1.csv')"
   ],
   "metadata": {
    "collapsed": false,
    "ExecuteTime": {
     "end_time": "2024-09-05T18:15:38.267458Z",
     "start_time": "2024-09-05T18:15:27.577274Z"
    }
   },
   "id": "eae33f8a65f43b64",
   "execution_count": 2
  },
  {
   "cell_type": "code",
   "outputs": [],
   "source": [
    "ytr = pd.read_csv('data/YTr.csv')"
   ],
   "metadata": {
    "collapsed": false,
    "ExecuteTime": {
     "end_time": "2024-09-05T18:16:36.375999Z",
     "start_time": "2024-09-05T18:16:36.370629Z"
    }
   },
   "id": "cbcdb851669eaabb",
   "execution_count": 3
  },
  {
   "cell_type": "code",
   "outputs": [
    {
     "data": {
      "text/plain": "(16303, 7203)"
     },
     "execution_count": 4,
     "metadata": {},
     "output_type": "execute_result"
    }
   ],
   "source": [
    "xtr.shape"
   ],
   "metadata": {
    "collapsed": false,
    "ExecuteTime": {
     "end_time": "2024-09-05T18:33:14.987234Z",
     "start_time": "2024-09-05T18:33:14.982162Z"
    }
   },
   "id": "4c1cc92d1b84a90c",
   "execution_count": 4
  },
  {
   "cell_type": "code",
   "outputs": [
    {
     "data": {
      "text/plain": "     735    706    678    660    599    541    514    549    566    517  ...  \\\n0   1009   1051   1083   1084   1066   1025    975   1088   1152   1011  ...   \n1   1012    975   1077   1112   1109   1175   1157    957    938   1157  ...   \n2   1048   1100   1182   1135   1129   1147   1028   1056   1110   1081  ...   \n3 -49604 -49296 -49286 -49718 -50265 -50653 -51028 -51566 -52128 -52382  ...   \n4  14801  13516  13160  13784  14999  16223  17224  17436  16437  15141  ...   \n\n   -16697  -16254  -15761  -15258  -14772  -14318  -13868  -13397  -12878  \\\n0    -802    -846    -767    -713    -696    -690    -714    -733    -767   \n1    -656    -581    -647    -682    -655    -664    -520    -584    -632   \n2    -710    -585    -486    -543    -695    -654    -583    -603    -628   \n3   18984   24318   29003   33092   36758   40240   43651   47041   50366   \n4  -10861  -12622  -15676  -19074  -22241  -24847  -26315  -27099  -27649   \n\n   -12361  \n0    -764  \n1    -602  \n2    -853  \n3   53710  \n4  -27637  \n\n[5 rows x 7203 columns]",
      "text/html": "<div>\n<style scoped>\n    .dataframe tbody tr th:only-of-type {\n        vertical-align: middle;\n    }\n\n    .dataframe tbody tr th {\n        vertical-align: top;\n    }\n\n    .dataframe thead th {\n        text-align: right;\n    }\n</style>\n<table border=\"1\" class=\"dataframe\">\n  <thead>\n    <tr style=\"text-align: right;\">\n      <th></th>\n      <th>735</th>\n      <th>706</th>\n      <th>678</th>\n      <th>660</th>\n      <th>599</th>\n      <th>541</th>\n      <th>514</th>\n      <th>549</th>\n      <th>566</th>\n      <th>517</th>\n      <th>...</th>\n      <th>-16697</th>\n      <th>-16254</th>\n      <th>-15761</th>\n      <th>-15258</th>\n      <th>-14772</th>\n      <th>-14318</th>\n      <th>-13868</th>\n      <th>-13397</th>\n      <th>-12878</th>\n      <th>-12361</th>\n    </tr>\n  </thead>\n  <tbody>\n    <tr>\n      <th>0</th>\n      <td>1009</td>\n      <td>1051</td>\n      <td>1083</td>\n      <td>1084</td>\n      <td>1066</td>\n      <td>1025</td>\n      <td>975</td>\n      <td>1088</td>\n      <td>1152</td>\n      <td>1011</td>\n      <td>...</td>\n      <td>-802</td>\n      <td>-846</td>\n      <td>-767</td>\n      <td>-713</td>\n      <td>-696</td>\n      <td>-690</td>\n      <td>-714</td>\n      <td>-733</td>\n      <td>-767</td>\n      <td>-764</td>\n    </tr>\n    <tr>\n      <th>1</th>\n      <td>1012</td>\n      <td>975</td>\n      <td>1077</td>\n      <td>1112</td>\n      <td>1109</td>\n      <td>1175</td>\n      <td>1157</td>\n      <td>957</td>\n      <td>938</td>\n      <td>1157</td>\n      <td>...</td>\n      <td>-656</td>\n      <td>-581</td>\n      <td>-647</td>\n      <td>-682</td>\n      <td>-655</td>\n      <td>-664</td>\n      <td>-520</td>\n      <td>-584</td>\n      <td>-632</td>\n      <td>-602</td>\n    </tr>\n    <tr>\n      <th>2</th>\n      <td>1048</td>\n      <td>1100</td>\n      <td>1182</td>\n      <td>1135</td>\n      <td>1129</td>\n      <td>1147</td>\n      <td>1028</td>\n      <td>1056</td>\n      <td>1110</td>\n      <td>1081</td>\n      <td>...</td>\n      <td>-710</td>\n      <td>-585</td>\n      <td>-486</td>\n      <td>-543</td>\n      <td>-695</td>\n      <td>-654</td>\n      <td>-583</td>\n      <td>-603</td>\n      <td>-628</td>\n      <td>-853</td>\n    </tr>\n    <tr>\n      <th>3</th>\n      <td>-49604</td>\n      <td>-49296</td>\n      <td>-49286</td>\n      <td>-49718</td>\n      <td>-50265</td>\n      <td>-50653</td>\n      <td>-51028</td>\n      <td>-51566</td>\n      <td>-52128</td>\n      <td>-52382</td>\n      <td>...</td>\n      <td>18984</td>\n      <td>24318</td>\n      <td>29003</td>\n      <td>33092</td>\n      <td>36758</td>\n      <td>40240</td>\n      <td>43651</td>\n      <td>47041</td>\n      <td>50366</td>\n      <td>53710</td>\n    </tr>\n    <tr>\n      <th>4</th>\n      <td>14801</td>\n      <td>13516</td>\n      <td>13160</td>\n      <td>13784</td>\n      <td>14999</td>\n      <td>16223</td>\n      <td>17224</td>\n      <td>17436</td>\n      <td>16437</td>\n      <td>15141</td>\n      <td>...</td>\n      <td>-10861</td>\n      <td>-12622</td>\n      <td>-15676</td>\n      <td>-19074</td>\n      <td>-22241</td>\n      <td>-24847</td>\n      <td>-26315</td>\n      <td>-27099</td>\n      <td>-27649</td>\n      <td>-27637</td>\n    </tr>\n  </tbody>\n</table>\n<p>5 rows × 7203 columns</p>\n</div>"
     },
     "execution_count": 5,
     "metadata": {},
     "output_type": "execute_result"
    }
   ],
   "source": [
    "xtr.head()"
   ],
   "metadata": {
    "collapsed": false,
    "ExecuteTime": {
     "end_time": "2024-09-05T18:33:22.714983Z",
     "start_time": "2024-09-05T18:33:22.706272Z"
    }
   },
   "id": "f92bd1ebcbf09a58",
   "execution_count": 5
  },
  {
   "cell_type": "code",
   "outputs": [],
   "source": [
    "merged_df = pd.concat([xtr, ytr], axis=1)"
   ],
   "metadata": {
    "collapsed": false,
    "ExecuteTime": {
     "end_time": "2024-09-05T18:37:24.828978Z",
     "start_time": "2024-09-05T18:37:24.650857Z"
    }
   },
   "id": "b20bb042c0204cf5",
   "execution_count": 6
  },
  {
   "cell_type": "code",
   "outputs": [],
   "source": [
    "merged_df = merged_df.sample(frac=1).reset_index(drop=True)"
   ],
   "metadata": {
    "collapsed": false,
    "ExecuteTime": {
     "end_time": "2024-09-05T18:43:41.256151Z",
     "start_time": "2024-09-05T18:43:40.806519Z"
    }
   },
   "id": "8a9407a9d7abb809",
   "execution_count": 8
  },
  {
   "cell_type": "code",
   "outputs": [],
   "source": [
    "merged_df.to_csv('data/merged_earthquake.csv', index=False)"
   ],
   "metadata": {
    "collapsed": false,
    "ExecuteTime": {
     "end_time": "2024-09-05T18:44:01.817386Z",
     "start_time": "2024-09-05T18:43:42.175884Z"
    }
   },
   "id": "a40df33e28d2e569",
   "execution_count": 9
  },
  {
   "cell_type": "code",
   "outputs": [],
   "source": [],
   "metadata": {
    "collapsed": false
   },
   "id": "e83b5f67be8751b2"
  }
 ],
 "metadata": {
  "kernelspec": {
   "display_name": "Python 3",
   "language": "python",
   "name": "python3"
  },
  "language_info": {
   "codemirror_mode": {
    "name": "ipython",
    "version": 2
   },
   "file_extension": ".py",
   "mimetype": "text/x-python",
   "name": "python",
   "nbconvert_exporter": "python",
   "pygments_lexer": "ipython2",
   "version": "2.7.6"
  }
 },
 "nbformat": 4,
 "nbformat_minor": 5
}
