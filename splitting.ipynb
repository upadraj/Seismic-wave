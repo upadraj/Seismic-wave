{
 "cells": [
  {
   "cell_type": "code",
   "execution_count": 1,
   "metadata": {},
   "outputs": [],
   "source": [
    "import random\n",
    "import numpy as np\n",
    "import pandas as pd\n"
   ]
  },
  {
   "cell_type": "code",
   "execution_count": 2,
   "metadata": {},
   "outputs": [],
   "source": [
    "# num_rows = 100\n",
    "# num_columns = 7203\n",
    "\n",
    "# # Create an array with integers from 1 to 7203\n",
    "# base_array = np.arange(1, num_columns + 1)\n",
    "\n",
    "# # Tile this base array to create a DataFrame with the desired shape\n",
    "# data_array = np.tile(base_array, (num_rows, 1))\n",
    "\n",
    "# # Convert the NumPy array to a DataFrame\n",
    "# df = pd.DataFrame(data_array)\n",
    "\n",
    "# # Display the DataFrame to check\n",
    "# print(df.head())\n",
    "# print(f\"DataFrame shape: {df.shape}\")"
   ]
  },
  {
   "cell_type": "code",
   "execution_count": 3,
   "metadata": {},
   "outputs": [],
   "source": [
    "# df = pd.read_csv('./data/balanced/train.csv',nrows=5)\n",
    "df = pd.read_csv('./data/balanced/test.csv')\n",
    "columns = df.columns\n",
    "train = df.iloc[:, :-1]"
   ]
  },
  {
   "cell_type": "code",
   "execution_count": 4,
   "metadata": {},
   "outputs": [
    {
     "data": {
      "text/plain": [
       "Index(['735', '706', '678', '660', '599', '541', '514', '549', '566', '517',\n",
       "       ...\n",
       "       '-16697', '-16254', '-15761', '-15258', '-14772', '-14318', '-13868',\n",
       "       '-13397', '-12878', '-12361'],\n",
       "      dtype='object', length=7203)"
      ]
     },
     "execution_count": 4,
     "metadata": {},
     "output_type": "execute_result"
    }
   ],
   "source": [
    "train.columns"
   ]
  },
  {
   "cell_type": "code",
   "execution_count": 5,
   "metadata": {},
   "outputs": [],
   "source": [
    "def split_3_channel(df, split=3):\n",
    "    num_rows, num_cols = df.shape\n",
    "    num_parts = num_cols // split\n",
    "    data = np.zeros((num_rows, split, num_parts))\n",
    "    for x in range(num_rows):\n",
    "        a = df.iloc[x, 0:num_parts]\n",
    "        b = df.iloc[x, num_parts : 2 * num_parts]\n",
    "        c = df.iloc[x, 2 * num_parts : 3 * num_parts]\n",
    "        data[x][0] = a\n",
    "        data[x][1] = b\n",
    "        data[x][2] = c\n",
    "    return data\n",
    "\n",
    "resaped_data = split_3_channel(df=df)"
   ]
  },
  {
   "cell_type": "code",
   "execution_count": 6,
   "metadata": {},
   "outputs": [
    {
     "data": {
      "text/plain": [
       "array([[ -2485.,  -2302.,  -2194., ...,   -726.,   -525.,   -282.],\n",
       "       [-11258., -11273., -11225., ...,  -3451.,  -3884.,  -4405.],\n",
       "       [  1748.,   1744.,   1861., ...,   2247.,   2049.,   1832.]])"
      ]
     },
     "execution_count": 6,
     "metadata": {},
     "output_type": "execute_result"
    }
   ],
   "source": [
    "resaped_data[0]"
   ]
  },
  {
   "cell_type": "code",
   "execution_count": 7,
   "metadata": {},
   "outputs": [
    {
     "data": {
      "text/plain": [
       "array([1748, 1744, 1861, ..., 2247, 2049, 1832], dtype=int64)"
      ]
     },
     "execution_count": 7,
     "metadata": {},
     "output_type": "execute_result"
    }
   ],
   "source": [
    "train.iloc[0][4802:7203].to_numpy()"
   ]
  },
  {
   "cell_type": "code",
   "execution_count": 8,
   "metadata": {},
   "outputs": [
    {
     "data": {
      "text/plain": [
       "numpy.ndarray"
      ]
     },
     "execution_count": 8,
     "metadata": {},
     "output_type": "execute_result"
    }
   ],
   "source": [
    "input_data = resaped_data\n",
    "type(input_data)\n"
   ]
  },
  {
   "cell_type": "code",
   "execution_count": 9,
   "metadata": {},
   "outputs": [
    {
     "data": {
      "text/plain": [
       "array([[[-2.4850e+03, -2.3020e+03, -2.1940e+03, ..., -7.2600e+02,\n",
       "         -5.2500e+02, -2.8200e+02],\n",
       "        [-1.1258e+04, -1.1273e+04, -1.1225e+04, ..., -3.4510e+03,\n",
       "         -3.8840e+03, -4.4050e+03],\n",
       "        [ 1.7480e+03,  1.7440e+03,  1.8610e+03, ...,  2.2470e+03,\n",
       "          2.0490e+03,  1.8320e+03]],\n",
       "\n",
       "       [[-4.7445e+04, -4.9376e+04, -4.8415e+04, ..., -4.4900e+04,\n",
       "         -4.4314e+04, -4.5359e+04],\n",
       "        [-1.2865e+04, -1.2402e+04, -9.1850e+03, ..., -8.0480e+03,\n",
       "         -7.5350e+03, -8.2750e+03],\n",
       "        [-1.2842e+04, -1.3145e+04, -1.2911e+04, ..., -1.0136e+04,\n",
       "         -1.0460e+04, -1.1284e+04]],\n",
       "\n",
       "       [[ 8.2354e+04,  8.2227e+04,  8.2095e+04, ...,  4.0240e+03,\n",
       "          3.9570e+03,  3.9050e+03],\n",
       "        [-2.9107e+04, -2.8902e+04, -2.8649e+04, ..., -3.0082e+04,\n",
       "         -2.9605e+04, -2.9504e+04],\n",
       "        [ 1.4401e+04,  1.4403e+04,  1.4402e+04, ...,  1.5091e+04,\n",
       "          1.5091e+04,  1.5093e+04]],\n",
       "\n",
       "       ...,\n",
       "\n",
       "       [[ 4.6600e+02,  1.5720e+03,  2.9500e+02, ...,  3.6520e+03,\n",
       "          2.9510e+03,  9.7100e+02],\n",
       "        [ 2.8200e+02, -2.0800e+02, -2.4600e+02, ...,  4.1500e+03,\n",
       "          2.7000e+03, -2.9800e+02],\n",
       "        [ 1.9600e+02, -3.9000e+01,  4.2300e+02, ..., -5.2550e+03,\n",
       "         -5.2850e+03, -1.9290e+03]],\n",
       "\n",
       "       [[-7.9010e+03, -6.7150e+03, -7.3440e+03, ..., -9.6810e+03,\n",
       "         -7.9870e+03, -7.8120e+03],\n",
       "        [ 8.8680e+03,  8.3660e+03,  9.2990e+03, ..., -1.3070e+03,\n",
       "         -9.7200e+02, -2.5100e+03],\n",
       "        [-1.2488e+04, -1.1435e+04, -1.4261e+04, ..., -1.1996e+04,\n",
       "         -1.3728e+04, -1.3717e+04]],\n",
       "\n",
       "       [[-8.6490e+03, -8.8190e+03, -8.9230e+03, ..., -3.2090e+03,\n",
       "         -3.5980e+03, -4.0310e+03],\n",
       "        [ 2.0310e+03,  2.0050e+03,  1.9960e+03, ..., -6.1040e+03,\n",
       "         -5.0840e+03, -3.1600e+03],\n",
       "        [-3.0580e+03, -2.8360e+03, -2.6350e+03, ...,  7.6100e+02,\n",
       "         -1.7200e+03, -3.8360e+03]]])"
      ]
     },
     "execution_count": 9,
     "metadata": {},
     "output_type": "execute_result"
    }
   ],
   "source": [
    "input_data"
   ]
  },
  {
   "cell_type": "code",
   "execution_count": 10,
   "metadata": {},
   "outputs": [
    {
     "name": "stdout",
     "output_type": "stream",
     "text": [
      "<class 'numpy.ndarray'>\n"
     ]
    }
   ],
   "source": [
    "type(input_data)\n",
    "label = df['lables']\n",
    "label_data = label.to_numpy()\n",
    "print(type(label_data))"
   ]
  },
  {
   "cell_type": "code",
   "execution_count": 11,
   "metadata": {},
   "outputs": [],
   "source": [
    "np.save('./data/balanced/test_data.npy', input_data)\n",
    "np.save('./data/balanced/test_label_data.npy', label_data)\n"
   ]
  }
 ],
 "metadata": {
  "kernelspec": {
   "display_name": "a1_env",
   "language": "python",
   "name": "python3"
  },
  "language_info": {
   "codemirror_mode": {
    "name": "ipython",
    "version": 3
   },
   "file_extension": ".py",
   "mimetype": "text/x-python",
   "name": "python",
   "nbconvert_exporter": "python",
   "pygments_lexer": "ipython3",
   "version": "3.9.19"
  }
 },
 "nbformat": 4,
 "nbformat_minor": 2
}
