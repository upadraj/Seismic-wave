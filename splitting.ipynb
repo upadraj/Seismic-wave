{
 "cells": [
  {
   "cell_type": "code",
   "execution_count": 1,
   "metadata": {},
   "outputs": [],
   "source": [
    "import random\n",
    "import numpy as np\n",
    "import pandas as pd\n"
   ]
  },
  {
   "cell_type": "code",
   "execution_count": 2,
   "metadata": {},
   "outputs": [],
   "source": [
    "# num_rows = 100\n",
    "# num_columns = 7203\n",
    "\n",
    "# # Create an array with integers from 1 to 7203\n",
    "# base_array = np.arange(1, num_columns + 1)\n",
    "\n",
    "# # Tile this base array to create a DataFrame with the desired shape\n",
    "# data_array = np.tile(base_array, (num_rows, 1))\n",
    "\n",
    "# # Convert the NumPy array to a DataFrame\n",
    "# df = pd.DataFrame(data_array)\n",
    "\n",
    "# # Display the DataFrame to check\n",
    "# print(df.head())\n",
    "# print(f\"DataFrame shape: {df.shape}\")"
   ]
  },
  {
   "cell_type": "code",
   "execution_count": 3,
   "metadata": {},
   "outputs": [],
   "source": [
    "df = pd.read_csv('./data/balanced/train.csv')\n",
    "# df = pd.read_csv('./data/balanced/test.csv')\n",
    "columns = df.columns\n",
    "train = df.iloc[:, :-1]"
   ]
  },
  {
   "cell_type": "code",
   "execution_count": 4,
   "metadata": {},
   "outputs": [
    {
     "data": {
      "text/plain": [
       "Index(['735', '706', '678', '660', '599', '541', '514', '549', '566', '517',\n",
       "       ...\n",
       "       '-16697', '-16254', '-15761', '-15258', '-14772', '-14318', '-13868',\n",
       "       '-13397', '-12878', '-12361'],\n",
       "      dtype='object', length=7203)"
      ]
     },
     "execution_count": 4,
     "metadata": {},
     "output_type": "execute_result"
    }
   ],
   "source": [
    "train.columns"
   ]
  },
  {
   "cell_type": "code",
   "execution_count": 5,
   "metadata": {},
   "outputs": [],
   "source": [
    "def split_3_channel(df, split=3):\n",
    "    num_rows, num_cols = df.shape\n",
    "    num_parts = num_cols // split\n",
    "    data = np.zeros((num_rows, split, num_parts))\n",
    "    for x in range(num_rows):\n",
    "        a = df.iloc[x, 0:num_parts]\n",
    "        b = df.iloc[x, num_parts : 2 * num_parts]\n",
    "        c = df.iloc[x, 2 * num_parts : 3 * num_parts]\n",
    "        data[x][0] = a\n",
    "        data[x][1] = b\n",
    "        data[x][2] = c\n",
    "    return data\n",
    "\n",
    "resaped_data = split_3_channel(df=df)"
   ]
  },
  {
   "cell_type": "code",
   "execution_count": 6,
   "metadata": {},
   "outputs": [
    {
     "data": {
      "text/plain": [
       "array([[ 37349.,  37391.,  37442., ...,  24456.,  24767.,  25574.],\n",
       "       [-55429., -55582., -55752., ...,  -1509.,  -2277.,  -2414.],\n",
       "       [-83904., -84437., -84979., ...,  64403.,  61726.,  59134.]])"
      ]
     },
     "execution_count": 6,
     "metadata": {},
     "output_type": "execute_result"
    }
   ],
   "source": [
    "resaped_data[0]"
   ]
  },
  {
   "cell_type": "code",
   "execution_count": 7,
   "metadata": {},
   "outputs": [
    {
     "data": {
      "text/plain": [
       "array([-83904, -84437, -84979, ...,  64403,  61726,  59134], dtype=int64)"
      ]
     },
     "execution_count": 7,
     "metadata": {},
     "output_type": "execute_result"
    }
   ],
   "source": [
    "train.iloc[0][4802:7203].to_numpy()"
   ]
  },
  {
   "cell_type": "code",
   "execution_count": 8,
   "metadata": {},
   "outputs": [
    {
     "data": {
      "text/plain": [
       "numpy.ndarray"
      ]
     },
     "execution_count": 8,
     "metadata": {},
     "output_type": "execute_result"
    }
   ],
   "source": [
    "input_data = resaped_data\n",
    "type(input_data)\n"
   ]
  },
  {
   "cell_type": "code",
   "execution_count": 9,
   "metadata": {},
   "outputs": [
    {
     "data": {
      "text/plain": [
       "array([[[ 3.7349e+04,  3.7391e+04,  3.7442e+04, ...,  2.4456e+04,\n",
       "          2.4767e+04,  2.5574e+04],\n",
       "        [-5.5429e+04, -5.5582e+04, -5.5752e+04, ..., -1.5090e+03,\n",
       "         -2.2770e+03, -2.4140e+03],\n",
       "        [-8.3904e+04, -8.4437e+04, -8.4979e+04, ...,  6.4403e+04,\n",
       "          6.1726e+04,  5.9134e+04]],\n",
       "\n",
       "       [[-5.3730e+03, -5.3740e+03, -5.4200e+03, ..., -4.8900e+03,\n",
       "         -4.8960e+03, -4.8610e+03],\n",
       "        [-6.4920e+03, -6.4360e+03, -6.3590e+03, ..., -6.4560e+03,\n",
       "         -6.3940e+03, -6.3850e+03],\n",
       "        [-3.4920e+03, -3.5260e+03, -3.5210e+03, ..., -2.9060e+03,\n",
       "         -2.7940e+03, -2.7310e+03]],\n",
       "\n",
       "       [[-3.4150e+03, -3.3930e+03, -3.4050e+03, ..., -2.1000e+02,\n",
       "         -1.4600e+02, -1.4200e+02],\n",
       "        [-1.8820e+03, -1.9350e+03, -1.9320e+03, ...,  2.3400e+02,\n",
       "          1.9600e+02,  1.8500e+02],\n",
       "        [ 3.8430e+03,  3.8120e+03,  3.7540e+03, ..., -1.1760e+03,\n",
       "         -1.1340e+03, -1.0980e+03]],\n",
       "\n",
       "       ...,\n",
       "\n",
       "       [[-1.2544e+04, -1.2621e+04, -1.2621e+04, ..., -1.3347e+04,\n",
       "         -1.3338e+04, -1.3292e+04],\n",
       "        [-1.3468e+04, -1.3493e+04, -1.3503e+04, ..., -1.2348e+04,\n",
       "         -1.2291e+04, -1.2244e+04],\n",
       "        [-2.6060e+04, -2.5988e+04, -2.5937e+04, ..., -2.7289e+04,\n",
       "         -2.7293e+04, -2.7288e+04]],\n",
       "\n",
       "       [[-4.3266e+04, -4.3225e+04, -4.3242e+04, ..., -4.5890e+04,\n",
       "         -4.5981e+04, -4.6077e+04],\n",
       "        [-4.7386e+04, -4.7358e+04, -4.7288e+04, ..., -4.4240e+04,\n",
       "         -4.4330e+04, -4.4354e+04],\n",
       "        [-2.5870e+04, -2.5912e+04, -2.5966e+04, ..., -2.1545e+04,\n",
       "         -2.1573e+04, -2.1577e+04]],\n",
       "\n",
       "       [[-1.1500e+02,  7.0000e+00,  2.6300e+02, ..., -1.2550e+03,\n",
       "         -2.2930e+03, -9.8000e+01],\n",
       "        [ 7.9000e+01,  3.2300e+02, -1.9000e+01, ..., -4.3960e+03,\n",
       "         -3.4940e+03, -1.0890e+03],\n",
       "        [ 7.2200e+02,  8.6700e+02,  5.8000e+02, ...,  3.7100e+02,\n",
       "         -5.6300e+02, -8.3500e+02]]])"
      ]
     },
     "execution_count": 9,
     "metadata": {},
     "output_type": "execute_result"
    }
   ],
   "source": [
    "input_data"
   ]
  },
  {
   "cell_type": "code",
   "execution_count": 10,
   "metadata": {},
   "outputs": [
    {
     "name": "stdout",
     "output_type": "stream",
     "text": [
      "<class 'numpy.ndarray'>\n"
     ]
    }
   ],
   "source": [
    "type(input_data)\n",
    "label = df['lables']\n",
    "label_data = label.to_numpy()\n",
    "print(type(label_data))"
   ]
  },
  {
   "cell_type": "code",
   "execution_count": 11,
   "metadata": {},
   "outputs": [
    {
     "name": "stdout",
     "output_type": "stream",
     "text": [
      "(array(['Lg', 'P', 'Pg', 'Pn', 'S', 'Sn'], dtype=object), array([2725, 2694, 2680, 2694, 1185, 2694], dtype=int64))\n"
     ]
    }
   ],
   "source": [
    "unique_values, count  = np.unique(label_data, return_counts=True)\n",
    "print((unique_values, count))"
   ]
  },
  {
   "cell_type": "code",
   "execution_count": 12,
   "metadata": {},
   "outputs": [],
   "source": [
    "# # np.save('./data/balanced/input_data.npy', input_data)\n",
    "# np.save('./data/balanced/test_data.npy', input_data)\n",
    "\n",
    "# # np.save('./data/balanced/label_data.npy', label_data)\n",
    "# np.save('./data/balanced/test_label_data.npy', label_data)\n"
   ]
  }
 ],
 "metadata": {
  "kernelspec": {
   "display_name": "a1_env",
   "language": "python",
   "name": "python3"
  },
  "language_info": {
   "codemirror_mode": {
    "name": "ipython",
    "version": 3
   },
   "file_extension": ".py",
   "mimetype": "text/x-python",
   "name": "python",
   "nbconvert_exporter": "python",
   "pygments_lexer": "ipython3",
   "version": "3.9.19"
  }
 },
 "nbformat": 4,
 "nbformat_minor": 2
}
